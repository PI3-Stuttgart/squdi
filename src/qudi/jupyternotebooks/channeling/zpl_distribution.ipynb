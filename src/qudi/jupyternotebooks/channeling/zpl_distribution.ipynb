{
 "cells": [
  {
   "cell_type": "code",
   "execution_count": 24,
   "metadata": {},
   "outputs": [],
   "source": [
    "import time\n",
    "import numpy as np\n",
    "\n",
    "def go_to_ple_target(target):\n",
    "    ple_gui._mw.ple_widget.target_point.setValue(target)\n",
    "    ple_gui._mw.ple_widget.target_point.sigPositionChangeFinished.emit(target)\n",
    "    time.sleep(0.5)\n",
    "\n",
    "def save_scan(name):\n",
    "    scanner_gui.save_path_widget.saveTagLineEdit.setText(name)\n",
    "    scanner_gui.scan_2d_dockwidgets[('x', 'y')].scan_widget.save_scan_button.clicked.emit() #saving\n",
    "    return name"
   ]
  },
  {
   "cell_type": "code",
   "execution_count": 25,
   "metadata": {},
   "outputs": [
    {
     "name": "stdout",
     "output_type": "stream",
     "text": [
      "Scan 18/19 completed for 12.41 GHz\n"
     ]
    }
   ],
   "source": [
    "metadata = save_scan(f\"scan_{i}_{wavelength:.2f}GHz\")\n",
    "scan_names.append((metadata))\n",
    "\n",
    "print(f\"Scan {i+1}/{num_steps} completed for {wavelength:.2f} GHz\")"
   ]
  },
  {
   "cell_type": "code",
   "execution_count": 26,
   "metadata": {},
   "outputs": [],
   "source": [
    "# Parameters\n",
    "start_freq = 0  # GHz to Hz\n",
    "end_freq = 18000  # GHz to Hz\n",
    "step = 500  # GHz to Hz\n",
    "num_steps = int((end_freq - start_freq) / step) + 1  # +1 for inclusive range\n",
    "resolution = (150, 150)  # x, y points\n",
    "excitation_power = 10  # mW (adjust as needed)\n",
    "w0 = 484.130 #THz\n",
    "# Data structure for results\n",
    "frequencies = np.linspace(start_freq, end_freq, num_steps)\n",
    "scan_names = []\n",
    "\n",
    "# Loop through frequencies\n",
    "for i, freq in enumerate(frequencies):\n",
    "    # Set laser frequency\n",
    "    go_to_ple_target(freq)\n",
    "    time.sleep(3)\n",
    "\n",
    "    # Measure and record wavelength\n",
    "    wavelength = (high_finesse_wavemeter.get_current_wavelength() - w0) * 1e3   # to GHz\n",
    "    print(wavelength)\n",
    "\n",
    "    # Start scan and save data\n",
    "    scanning_probe_logic.toggle_scan(True, ('x', 'y'))\n",
    "    while scanning_probe_logic.module_state()=='locked':\n",
    "            time.sleep(1)\n",
    "    \n",
    "    metadata = save_scan(f\"scan_etched_20_fresh_{i}_{wavelength:.2f}GHz\")\n",
    "    scan_names.append((metadata))\n",
    "\n",
    "    print(f\"Scan {i+1}/{num_steps} completed for {wavelength:.2f} GHz\")\n"
   ]
  },
  {
   "cell_type": "code",
   "execution_count": 8,
   "metadata": {},
   "outputs": [
    {
     "data": {
      "text/plain": [
       "4.632370265767349"
      ]
     },
     "execution_count": 8,
     "metadata": {},
     "output_type": "execute_result"
    }
   ],
   "source": [
    "(high_finesse_wavemeter.get_current_wavelength() - 484.130) * 1e3"
   ]
  },
  {
   "cell_type": "code",
   "execution_count": null,
   "metadata": {},
   "outputs": [],
   "source": [
    "\n",
    "# Process data (replace with your specific code)\n",
    "# Here's an example using NumPy:\n",
    "fluorescence_intensities = []\n",
    "for data, _ in scan_data:\n",
    "    # Assuming data is a 2D array of fluorescence intensities\n",
    "    fluorescence_intensities.append(data.sum(axis=0))  # Sum along y-axis\n",
    "\n",
    "# Create histograms (adapt binning as needed)\n",
    "for i, intensity in enumerate(fluorescence_intensities):\n",
    "    plt.hist(intensity, bins=50, label=f\"{frequencies[i] / 1e9:.2f} GHz\")\n",
    "\n",
    "plt.xlabel(\"Fluorescence Intensity\")\n",
    "plt.ylabel(\"Count\")\n",
    "plt.title(\"Fluorescence Intensity at Different Frequencies\")\n",
    "plt.legend()\n",
    "plt.show()"
   ]
  }
 ],
 "metadata": {
  "kernelspec": {
   "display_name": "qudi",
   "language": "python",
   "name": "qudi"
  },
  "language_info": {
   "codemirror_mode": {
    "name": "ipython",
    "version": 3
   },
   "file_extension": ".py",
   "mimetype": "text/x-python",
   "name": "python",
   "nbconvert_exporter": "python",
   "pygments_lexer": "ipython3",
   "version": "3.9.18"
  }
 },
 "nbformat": 4,
 "nbformat_minor": 2
}

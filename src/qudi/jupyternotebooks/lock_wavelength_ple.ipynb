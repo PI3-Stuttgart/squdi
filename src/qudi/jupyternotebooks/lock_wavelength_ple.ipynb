{
 "cells": [
  {
   "cell_type": "code",
   "execution_count": 1,
   "metadata": {},
   "outputs": [],
   "source": [
    "high_finesse_wavemeter.start_acquisition()\n",
    "import time\n",
    "from toptica.lasersdk.dlcpro.v2_0_3 import DLCpro,LaserHead,  NetworkConnection, DeviceNotFoundError"
   ]
  },
  {
   "cell_type": "code",
   "execution_count": 1,
   "metadata": {},
   "outputs": [
    {
     "name": "stderr",
     "output_type": "stream",
     "text": [
      "DEBUG:pyrpl.attributes:SelectProperty unit of module None has no options!\n",
      "DEBUG:pyrpl.attributes:SelectProperty unit of module None has no options!\n",
      "DEBUG:pyrpl.attributes:SelectProperty unit of module None has no options!\n",
      "DEBUG:pyrpl.attributes:SelectProperty unit of module None has no options!\n",
      "DEBUG:pyrpl.attributes:SelectProperty default_sweep_output of module None has no options!\n",
      "DEBUG:pyrpl.attributes:SelectProperty default_sweep_output of module None has no options!\n",
      "DEBUG:pyrpl.attributes:SelectProperty default_sweep_output of module None has no options!\n",
      "DEBUG:pyrpl.attributes:SelectProperty default_sweep_output of module None has no options!\n",
      "DEBUG:pyrpl.attributes:SelectProperty default_sweep_output of module None has no options!\n",
      "DEBUG:pyrpl.attributes:SelectProperty default_sweep_output of module None has no options!\n",
      "DEBUG:pyrpl.attributes:SelectProperty default_sweep_output of module None has no options!\n",
      "DEBUG:pyrpl.attributes:SelectProperty default_sweep_output of module None has no options!\n",
      "DEBUG:pyrpl.attributes:SelectProperty default_sweep_output of module None has no options!\n",
      "DEBUG:pyrpl.attributes:SelectProperty default_sweep_output of module None has no options!\n",
      "DEBUG:pyrpl.attributes:SelectProperty default_sweep_output of module None has no options!\n",
      "DEBUG:pyrpl.attributes:SelectProperty default_sweep_output of module None has no options!\n"
     ]
    }
   ],
   "source": [
    "\n",
    "from pyrpl import RedPitaya, Pyrpl\n"
   ]
  },
  {
   "cell_type": "code",
   "execution_count": 5,
   "metadata": {},
   "outputs": [],
   "source": [
    "config_file = r\"C:\\Users\\YY3\\pyrpl_user_dir\\config\\pyrpl_config_lock_eom.yml\""
   ]
  },
  {
   "cell_type": "code",
   "execution_count": 37,
   "metadata": {},
   "outputs": [
    {
     "name": "stdout",
     "output_type": "stream",
     "text": [
      "\n",
      "192.168.202.72\n"
     ]
    }
   ],
   "source": [
    "import yaml\n",
    "\n",
    "with open(config_file, 'r') as file:\n",
    "    config_data = yaml.safe_load(file)\n",
    "\n",
    "# Accessing specific parameters\n",
    "print(config_data['pyrpl']['background_color'])\n",
    "print(config_data['redpitaya']['hostname'])\n",
    "# ... and so on\n"
   ]
  },
  {
   "cell_type": "code",
   "execution_count": 6,
   "metadata": {},
   "outputs": [
    {
     "name": "stderr",
     "output_type": "stream",
     "text": [
      "DEBUG:pyrpl.memory:Loading config file C:\\Users\\YY3\\pyrpl_user_dir\\config\\pyrpl_config_lock_eom.yml\n",
      "INFO:pyrpl:All your PyRPL settings will be saved to the config file\n",
      "    C:\\Users\\YY3\\pyrpl_user_dir\\config\\pyrpl_config_lock_eom.yml\n",
      "If you would like to restart PyRPL with these settings, type \"pyrpl.exe pyrpl_config_lock_eom\" in a windows terminal or \n",
      "    from pyrpl import Pyrpl\n",
      "    p = Pyrpl('pyrpl_config_lock_eom')\n",
      "in a python terminal.\n",
      "INFO:pyrpl.redpitaya:Successfully connected to Redpitaya with hostname 192.168.202.72.\n"
     ]
    },
    {
     "name": "stdout",
     "output_type": "stream",
     "text": [
      "OrderedDict([('in1', 10), ('in2', 11), ('out1', 12), ('out2', 13), ('iq0', 5), ('iq1', 6), ('iq2', 7), ('iq2_2', 14), ('pid0', 0), ('pid1', 1), ('pid2', 2), ('asg0', 8), ('asg1', 9), ('trig', 3), ('iir', 4), ('off', 15)])\n",
      "OrderedDict([('in1', 10), ('in2', 11), ('out1', 12), ('out2', 13), ('iq0', 5), ('iq1', 6), ('iq2', 7), ('iq2_2', 14), ('pid0', 0), ('pid1', 1), ('pid2', 2), ('asg0', 8), ('asg1', 9), ('trig', 3), ('iir', 4), ('off', 15)])\n",
      "OrderedDict([('input_from_output', 'input_from_output')])\n",
      "input input_from_output CHECK\n",
      "OrderedDict([('input_from_output', 'input_from_output')])\n",
      "setpoint 0 CHECK\n",
      "duration 0 CHECK\n",
      "gain_factor 1.0 CHECK\n",
      "function_call  CHECK\n",
      "outputs OrderedDict([('output1', OrderedDict([('lock_on', False), ('reset_offset', False), ('offset', 0)]))]) CHECK\n",
      "output1 OrderedDict([('lock_on', False), ('reset_offset', False), ('offset', 0)]) CHECK\n",
      "lock_on False CHECK\n",
      "reset_offset False CHECK\n",
      "offset 0 CHECK\n",
      "curve_name networkanalyzer curve CHECK\n",
      "curve_name spectrumanalyzer curve CHECK\n",
      "trace_average 32 CHECK\n",
      "curve_name scope curve CHECK\n",
      "run_continuous True CHECK\n",
      "input1 pid1 CHECK\n",
      "OrderedDict([('lockbox.outputs.output1', 'lockbox.outputs.output1')])\n",
      "OrderedDict([('lockbox.outputs.output1', 'lockbox.outputs.output1')])\n",
      "OrderedDict([('in1', 10), ('in2', 11), ('out1', 12), ('out2', 13), ('iq0', 5), ('iq1', 6), ('iq2', 7), ('iq2_2', 14), ('pid0', 0), ('pid1', 1), ('pid2', 2), ('asg0', 8), ('asg1', 9), ('trig', 3), ('iir', 4), ('off', 15), ('networkanalyzer', 7), ('lockbox.inputs.input_from_output', 2), ('lockbox.outputs.output1', 2)])\n",
      "OrderedDict([('lockbox.outputs.output1', 'lockbox.outputs.output1')])\n",
      "OrderedDict([('lockbox.outputs.output1', 'lockbox.outputs.output1')])\n",
      "OrderedDict([('lockbox.outputs.output1', 'lockbox.outputs.output1')])\n",
      "OrderedDict([('in1', 10), ('in2', 11), ('out1', 12), ('out2', 13), ('iq0', 5), ('iq1', 6), ('iq2', 7), ('iq2_2', 14), ('pid0', 0), ('pid1', 1), ('pid2', 2), ('asg0', 8), ('asg1', 9), ('trig', 3), ('iir', 4), ('off', 15), ('networkanalyzer', 7), ('lockbox.inputs.input_from_output', 2), ('lockbox.outputs.output1', 2)])\n",
      "OrderedDict([('lockbox.outputs.output1', 'lockbox.outputs.output1')])\n",
      "OrderedDict([('lockbox.outputs.output1', 'lockbox.outputs.output1')])\n",
      "OrderedDict([('in1', 10), ('in2', 11), ('out1', 12), ('out2', 13), ('iq0', 5), ('iq1', 6), ('iq2', 7), ('iq2_2', 14), ('pid0', 0), ('pid1', 1), ('pid2', 2), ('asg0', 8), ('asg1', 9), ('trig', 3), ('iir', 4), ('off', 15), ('networkanalyzer', 7), ('lockbox.inputs.input_from_output', 2), ('lockbox.outputs.output1', 2)])\n",
      "OrderedDict([('lockbox.outputs.output1', 'lockbox.outputs.output1')])\n",
      "OrderedDict([('lockbox.outputs.output1', 'lockbox.outputs.output1')])\n",
      "input2 in1 CHECK\n",
      "OrderedDict([('lockbox.outputs.output1', 'lockbox.outputs.output1')])\n",
      "OrderedDict([('in1', 10), ('in2', 11), ('out1', 12), ('out2', 13), ('iq0', 5), ('iq1', 6), ('iq2', 7), ('iq2_2', 14), ('pid0', 0), ('pid1', 1), ('pid2', 2), ('asg0', 8), ('asg1', 9), ('trig', 3), ('iir', 4), ('off', 15), ('networkanalyzer', 7), ('lockbox.inputs.input_from_output', 2), ('lockbox.outputs.output1', 2)])\n",
      "OrderedDict([('lockbox.outputs.output1', 'lockbox.outputs.output1')])\n",
      "OrderedDict([('lockbox.outputs.output1', 'lockbox.outputs.output1')])\n",
      "duration 8.589934592 CHECK\n",
      "trigger_source off CHECK\n",
      "trigger_delay 0.0 CHECK\n",
      "ch1_active False CHECK\n",
      "ch2_active True CHECK\n",
      "xy_mode False CHECK\n",
      "rolling_mode True CHECK\n",
      "default_sweep_output output1 CHECK\n",
      "outputs OrderedDict([('output1', OrderedDict([('assisted_design', True), ('i', 100.0), ('p', 0.0)])), ('output2', OrderedDict([('assisted_design', True), ('i', 100.0), ('p', 0.0)]))]) CHECK\n",
      "output1 OrderedDict([('assisted_design', True), ('i', 100.0), ('p', 0.0)]) CHECK\n",
      "p 0.0 CHECK\n",
      "i 100.0 CHECK\n",
      "assisted_design True CHECK\n",
      "OrderedDict([('lockbox.outputs.output1', 'lockbox.outputs.output1')])\n",
      "OrderedDict([('in1', 10), ('in2', 11), ('out1', 12), ('out2', 13), ('iq0', 5), ('iq1', 6), ('iq2', 7), ('iq2_2', 14), ('pid0', 0), ('pid1', 1), ('pid2', 2), ('asg0', 8), ('asg1', 9), ('trig', 3), ('iir', 4), ('off', 15), ('networkanalyzer', 7), ('lockbox.inputs.input_from_output', 2), ('lockbox.outputs.output1', 2)])\n",
      "OrderedDict([('lockbox.outputs.output1', 'lockbox.outputs.output1')])\n",
      "OrderedDict([('lockbox.outputs.output1', 'lockbox.outputs.output1')])\n",
      "OrderedDict([('lockbox.outputs.output1', 'lockbox.outputs.output1')])\n",
      "OrderedDict([('in1', 10), ('in2', 11), ('out1', 12), ('out2', 13), ('iq0', 5), ('iq1', 6), ('iq2', 7), ('iq2_2', 14), ('pid0', 0), ('pid1', 1), ('pid2', 2), ('asg0', 8), ('asg1', 9), ('trig', 3), ('iir', 4), ('off', 15), ('networkanalyzer', 7), ('lockbox.inputs.input_from_output', 2), ('lockbox.outputs.output1', 2)])\n",
      "OrderedDict([('lockbox.outputs.output1', 'lockbox.outputs.output1')])\n",
      "OrderedDict([('lockbox.outputs.output1', 'lockbox.outputs.output1')])\n",
      "sequence [OrderedDict([('outputs', OrderedDict())])] CHECK\n",
      "outputs OrderedDict() CHECK\n",
      "trace_average 32 CHECK\n",
      "curve_name scope curve CHECK\n",
      "run_continuous True CHECK\n",
      "input1 pid1 CHECK\n",
      "OrderedDict([('lockbox.outputs.output1', 'lockbox.outputs.output1')])\n",
      "OrderedDict([('in1', 10), ('in2', 11), ('out1', 12), ('out2', 13), ('iq0', 5), ('iq1', 6), ('iq2', 7), ('iq2_2', 14), ('pid0', 0), ('pid1', 1), ('pid2', 2), ('asg0', 8), ('asg1', 9), ('trig', 3), ('iir', 4), ('off', 15), ('networkanalyzer', 7), ('lockbox.inputs.input_from_output', 2), ('lockbox.outputs.output1', 2)])\n",
      "OrderedDict([('lockbox.outputs.output1', 'lockbox.outputs.output1')])\n",
      "OrderedDict([('lockbox.outputs.output1', 'lockbox.outputs.output1')])\n",
      "input2 in1 CHECK\n",
      "OrderedDict([('lockbox.outputs.output1', 'lockbox.outputs.output1')])\n",
      "OrderedDict([('in1', 10), ('in2', 11), ('out1', 12), ('out2', 13), ('iq0', 5), ('iq1', 6), ('iq2', 7), ('iq2_2', 14), ('pid0', 0), ('pid1', 1), ('pid2', 2), ('asg0', 8), ('asg1', 9), ('trig', 3), ('iir', 4), ('off', 15), ('networkanalyzer', 7), ('lockbox.inputs.input_from_output', 2), ('lockbox.outputs.output1', 2)])\n",
      "OrderedDict([('lockbox.outputs.output1', 'lockbox.outputs.output1')])\n",
      "OrderedDict([('lockbox.outputs.output1', 'lockbox.outputs.output1')])\n",
      "duration 8.589934592 CHECK\n",
      "trigger_source off CHECK\n",
      "trigger_delay 0.0 CHECK\n",
      "ch1_active False CHECK\n",
      "ch2_active True CHECK\n",
      "xy_mode False CHECK\n",
      "rolling_mode True CHECK\n",
      "waveform dc CHECK\n",
      "amplitude 1.0 CHECK\n",
      "offset 1.0 CHECK\n",
      "frequency 62500000.0 CHECK\n",
      "trigger_source off CHECK\n",
      "output_direct off CHECK\n",
      "waveform sin CHECK\n",
      "amplitude 0.010009765625 CHECK\n",
      "offset 0.0 CHECK\n",
      "frequency 1000.00761449337 CHECK\n",
      "trigger_source immediately CHECK\n",
      "output_direct out2 CHECK\n",
      "start_phase 0.0 CHECK\n",
      "input off CHECK\n",
      "OrderedDict([('lockbox.outputs.output1', 'lockbox.outputs.output1')])\n",
      "OrderedDict([('in1', 10), ('in2', 11), ('out1', 12), ('out2', 13), ('iq0', 5), ('iq1', 6), ('iq2', 7), ('iq2_2', 14), ('pid0', 0), ('pid1', 1), ('pid2', 2), ('asg0', 8), ('asg1', 9), ('trig', 3), ('iir', 4), ('off', 15), ('networkanalyzer', 7), ('lockbox.inputs.input_from_output', 2), ('lockbox.outputs.output1', 2)])\n",
      "OrderedDict([('lockbox.outputs.output1', 'lockbox.outputs.output1')])\n",
      "OrderedDict([('lockbox.outputs.output1', 'lockbox.outputs.output1')])\n",
      "input off CHECK\n",
      "OrderedDict([('lockbox.outputs.output1', 'lockbox.outputs.output1')])\n",
      "OrderedDict([('in1', 10), ('in2', 11), ('out1', 12), ('out2', 13), ('iq0', 5), ('iq1', 6), ('iq2', 7), ('iq2_2', 14), ('pid0', 0), ('pid1', 1), ('pid2', 2), ('asg0', 8), ('asg1', 9), ('trig', 3), ('iir', 4), ('off', 15), ('networkanalyzer', 7), ('lockbox.inputs.input_from_output', 2), ('lockbox.outputs.output1', 2)])\n",
      "OrderedDict([('lockbox.outputs.output1', 'lockbox.outputs.output1')])\n",
      "OrderedDict([('lockbox.outputs.output1', 'lockbox.outputs.output1')])\n",
      "input in2 CHECK\n",
      "OrderedDict([('lockbox.outputs.output1', 'lockbox.outputs.output1')])\n",
      "OrderedDict([('in1', 10), ('in2', 11), ('out1', 12), ('out2', 13), ('iq0', 5), ('iq1', 6), ('iq2', 7), ('iq2_2', 14), ('pid0', 0), ('pid1', 1), ('pid2', 2), ('asg0', 8), ('asg1', 9), ('trig', 3), ('iir', 4), ('off', 15), ('networkanalyzer', 7), ('lockbox.inputs.input_from_output', 2), ('lockbox.outputs.output1', 2)])\n",
      "OrderedDict([('lockbox.outputs.output1', 'lockbox.outputs.output1')])\n",
      "OrderedDict([('lockbox.outputs.output1', 'lockbox.outputs.output1')])\n",
      "acbandwidth 19437.586193546253 CHECK\n",
      "frequency 24999999.994179234 CHECK\n",
      "bandwidth [1.1857967662444893, 1.1857967662444893] CHECK\n",
      "quadrature_factor 800.0 CHECK\n",
      "output_signal quadrature CHECK\n",
      "gain 1.0 CHECK\n",
      "amplitude 0.9999923706054688 CHECK\n",
      "phase 270.0 CHECK\n",
      "output_direct off CHECK\n",
      "demodulation_at_2f off CHECK\n",
      "phase 0.0 CHECK\n",
      "input iq0 CHECK\n",
      "OrderedDict([('lockbox.outputs.output1', 'lockbox.outputs.output1')])\n",
      "OrderedDict([('in1', 10), ('in2', 11), ('out1', 12), ('out2', 13), ('iq0', 5), ('iq1', 6), ('iq2', 7), ('iq2_2', 14), ('pid0', 0), ('pid1', 1), ('pid2', 2), ('asg0', 8), ('asg1', 9), ('trig', 3), ('iir', 4), ('off', 15), ('networkanalyzer', 7), ('lockbox.inputs.input_from_output', 2), ('lockbox.outputs.output1', 2)])\n",
      "OrderedDict([('lockbox.outputs.output1', 'lockbox.outputs.output1')])\n",
      "OrderedDict([('lockbox.outputs.output1', 'lockbox.outputs.output1')])\n",
      "output_direct out2 CHECK\n",
      "setpoint 0.0 CHECK\n",
      "p -0.145751953125 CHECK\n",
      "i -0.09264036960195246 CHECK\n",
      "inputfilter [0, 9.486376108968424, 0, 9.486376108968424] CHECK\n",
      "max_voltage 0.9998779296875 CHECK\n",
      "min_voltage -0.5 CHECK\n",
      "paused False CHECK\n",
      "differential_mode_enabled False CHECK\n",
      "input in1 CHECK\n",
      "OrderedDict([('lockbox.outputs.output1', 'lockbox.outputs.output1')])\n",
      "OrderedDict([('in1', 10), ('in2', 11), ('out1', 12), ('out2', 13), ('iq0', 5), ('iq1', 6), ('iq2', 7), ('iq2_2', 14), ('pid0', 0), ('pid1', 1), ('pid2', 2), ('asg0', 8), ('asg1', 9), ('trig', 3), ('iir', 4), ('off', 15), ('networkanalyzer', 7), ('lockbox.inputs.input_from_output', 2), ('lockbox.outputs.output1', 2)])\n",
      "OrderedDict([('lockbox.outputs.output1', 'lockbox.outputs.output1')])\n",
      "OrderedDict([('lockbox.outputs.output1', 'lockbox.outputs.output1')])\n",
      "output_direct out1 CHECK\n",
      "setpoint 0.010009765625 CHECK\n",
      "p -1.6484375 CHECK\n",
      "i -24.716450609800916 CHECK\n",
      "inputfilter [0, 75.89113552886508, 0, 38894.1822543694] CHECK\n",
      "max_voltage 0.9998779296875 CHECK\n",
      "min_voltage 0.0 CHECK\n",
      "loops 5 CHECK\n",
      "on True CHECK\n"
     ]
    },
    {
     "name": "stdout",
     "output_type": "stream",
     "text": [
      "OrderedDict([('lockbox.outputs.output1', 'lockbox.outputs.output1')])\n",
      "OrderedDict([('in1', 10), ('in2', 11), ('out1', 12), ('out2', 13), ('iq0', 5), ('iq1', 6), ('iq2', 7), ('iq2_2', 14), ('pid0', 0), ('pid1', 1), ('pid2', 2), ('asg0', 8), ('asg1', 9), ('trig', 3), ('iir', 4), ('off', 15), ('networkanalyzer', 7), ('lockbox.inputs.input_from_output', 2), ('lockbox.outputs.output1', 2)])\n",
      "OrderedDict([('lockbox.outputs.output1', 'lockbox.outputs.output1')])\n",
      "OrderedDict([('lockbox.outputs.output1', 'lockbox.outputs.output1')])\n",
      "OrderedDict([('lockbox.outputs.output1', 'lockbox.outputs.output1')])\n",
      "OrderedDict([('in1', 10), ('in2', 11), ('out1', 12), ('out2', 13), ('iq0', 5), ('iq1', 6), ('iq2', 7), ('iq2_2', 14), ('pid0', 0), ('pid1', 1), ('pid2', 2), ('asg0', 8), ('asg1', 9), ('trig', 3), ('iir', 4), ('off', 15), ('networkanalyzer', 7), ('lockbox.inputs.input_from_output', 2), ('lockbox.outputs.output1', 2)])\n",
      "OrderedDict([('lockbox.outputs.output1', 'lockbox.outputs.output1')])\n",
      "OrderedDict([('lockbox.outputs.output1', 'lockbox.outputs.output1')])\n"
     ]
    }
   ],
   "source": [
    "r = Pyrpl(config=config_file, gui=None)"
   ]
  },
  {
   "cell_type": "code",
   "execution_count": 66,
   "metadata": {},
   "outputs": [
    {
     "data": {
      "text/plain": [
       "<pyrpl.software_modules.module_managers.Asgs at 0x1b0ea1c2ac0>"
      ]
     },
     "execution_count": 66,
     "metadata": {},
     "output_type": "execute_result"
    },
    {
     "name": "stderr",
     "output_type": "stream",
     "text": [
      "ERROR:pyrpl.redpitaya_client:Error occured in reading attempt 0. Reconnecting at addr 0x40100014 to _reads value 1 by client 3\n",
      "ERROR:pyrpl.redpitaya_client:Error occured in reading attempt 0. Reconnecting at addr 0x40100018 to _reads value 1 by client 4\n",
      "WARNING:pyrpl.modules:Register decimation of module scope has value 8192, which does not correspond to selected option 65536. Setting to '65536.0'. \n",
      "ERROR:pyrpl.redpitaya_client:Error occured in reading attempt 0. Reconnecting at addr 0x40100014 to _reads value 1 by client 5\n",
      "ERROR:pyrpl.redpitaya_client:Error occured in reading attempt 1. Reconnecting at addr 0x40100014 to _reads value 1 by client 6\n",
      "ERROR:pyrpl.redpitaya_client:Error occured in reading attempt 0. Reconnecting at addr 0x40100014 to _reads value 1 by client 7\n",
      "ERROR:pyrpl.redpitaya_client:Error occured in reading attempt 1. Reconnecting at addr 0x40100014 to _reads value 1 by client 8\n",
      "ERROR:pyrpl.redpitaya_client:Error occured in reading attempt 0. Reconnecting at addr 0x40100014 to _reads value 1 by client 9\n",
      "ERROR:pyrpl.redpitaya_client:Error occured in reading attempt 1. Reconnecting at addr 0x40100014 to _reads value 1 by client 10\n",
      "ERROR:pyrpl.redpitaya_client:Error occured in reading attempt 0. Reconnecting at addr 0x40100018 to _reads value 1 by client 11\n",
      "ERROR:pyrpl.redpitaya_client:Error occured in reading attempt 1. Reconnecting at addr 0x40100018 to _reads value 1 by client 12\n",
      "ERROR:pyrpl.redpitaya_client:Error occured in reading attempt 0. Reconnecting at addr 0x40100014 to _reads value 1 by client 13\n",
      "ERROR:pyrpl.redpitaya_client:Error occured in reading attempt 1. Reconnecting at addr 0x40100014 to _reads value 1 by client 14\n"
     ]
    }
   ],
   "source": [
    "r.asgs"
   ]
  },
  {
   "cell_type": "code",
   "execution_count": 38,
   "metadata": {},
   "outputs": [
    {
     "name": "stderr",
     "output_type": "stream",
     "text": [
      "DEBUG:pyrpl.memory:Loading config file C:\\Users\\YY3\\pyrpl_user_dir\\config\\pyrpl_config_lock_eom.yml\n",
      "DEBUG:pyrpl.sshshell:\n",
      "Welcome to Ubuntu 16.04.3 LTS (GNU/Linux 4.9.0-xilinx armv7l)\n",
      "\n",
      " * Documentation:  https://help.ubuntu.com\n",
      " * Management:     https://landscape.canonical.com\n",
      " * Support:        https://ubuntu.com/advantage\n",
      "##############################################################################\n",
      "# Red Pitaya GNU/Linux Ecosystem\n",
      "# Version: 1.04\n",
      "# Build: 9\n",
      "# Branch: \n",
      "# Commit: c1386d560ca717b89e55110bf9c912d91ad777b4\n",
      "# U-Boot: \"redpitaya-v2016.4\"\n",
      "# Linux Kernel: \"branch-redpitaya-v2017.2\"\n",
      "# Pro Applications: \"\"\n",
      "##############################################################################\n",
      "Last login: Thu Jan 18 07:26:55 2018 from 192.168.202.1\n",
      "\n",
      "DEBUG:pyrpl.sshshell:^C\n",
      "root@rp-f08ffa:~# \n",
      "root@rp-f08ffa:~# \n",
      "DEBUG:pyrpl.sshshell:\n",
      "root@rp-f08ffa:~# \n",
      "DEBUG:pyrpl.sshshell:killall monitor_server\n",
      "root@rp-f08ffa:~# \n",
      "DEBUG:pyrpl.sshshell:rw\n",
      "root@rp-f08ffa:~# \n",
      "DEBUG:pyrpl.sshshell:mkdir //opt//pyrpl//\n",
      "mkdir: cannot create directory ‘//opt//pyrpl//’: File exists\n",
      "root@rp-f08ffa:~# \n",
      "DEBUG:pyrpl.sshshell:^C\n",
      "\n",
      "root@rp-f08ffa:~# \n",
      "DEBUG:pyrpl.sshshell:\n",
      "root@rp-f08ffa:~# \n",
      "DEBUG:pyrpl.sshshell:killall monitor_server\n",
      "monitor_server: no process found\n",
      "root@rp-f08ffa:~# \n",
      "DEBUG:pyrpl.sshshell:killall nginx\n",
      "root@rp-f08ffa:~# \n",
      "DEBUG:pyrpl.sshshell:systemctl stop redpitaya_nginx\n",
      "\n",
      "DEBUG:pyrpl.sshshell:cat //opt//pyrpl//fpga.bin > //dev//xdevcfg\n",
      "\n",
      "DEBUG:pyrpl.sshshell:root@rp-f08ffa:~# cat //opt//pyrpl//fpga.bin > //dev//xdevcfg\n",
      "rm -f //opt//pyrpl//fpga.bin\n",
      "root@rp-f08ffa:~# rm -f //opt//pyrpl//fpga.bin\n",
      "root@rp-f08ffa:~# \n",
      "DEBUG:pyrpl.sshshell:nginx -p //opt//www//\n",
      "\n",
      "DEBUG:pyrpl.sshshell:systemctl start redpitaya_nginx\n",
      "nginx: [emerg] open() \"//opt//www//conf/nginx.conf\" failed (2: No such file or directory)\n",
      "root@rp-f08ffa:~# systemctl start redpitaya_nginx\n",
      "\n",
      "DEBUG:pyrpl.sshshell:ro\n",
      "\n",
      "DEBUG:pyrpl.sshshell:echo 0 > /sys/class/gpio/export\n",
      "root@rp-f08ffa:~# ro\n",
      "root@rp-f08ffa:~# echo 0 > /sys/class/gpio/export\n",
      "-bash: echo: write error: Invalid argument\n",
      "root@rp-f08ffa:~# \n",
      "DEBUG:pyrpl.sshshell:echo out > /sys/class/gpio/gpio0/direction\n",
      "-bash: /sys/class/gpio/gpio0/direction: No such file or directory\n",
      "root@rp-f08ffa:~# \n",
      "DEBUG:pyrpl.sshshell:echo 0 > /sys/class/gpio/gpio0/value\n",
      "-bash: /sys/class/gpio/gpio0/value: No such file or directory\n",
      "root@rp-f08ffa:~# \n",
      "DEBUG:pyrpl.sshshell:echo 7 > /sys/class/gpio/export\n",
      "-bash: echo: write error: Invalid argument\n",
      "root@rp-f08ffa:~# \n",
      "DEBUG:pyrpl.sshshell:echo out > /sys/class/gpio/gpio7/direction\n",
      "-bash: /sys/class/gpio/gpio7/direction: No such file or directory\n",
      "root@rp-f08ffa:~# \n",
      "DEBUG:pyrpl.sshshell:echo 0 > /sys/class/gpio/gpio7/value\n",
      "-bash: /sys/class/gpio/gpio7/value: No such file or directory\n",
      "root@rp-f08ffa:~# \n",
      "DEBUG:pyrpl.sshshell:^C\n",
      "\n",
      "root@rp-f08ffa:~# \n",
      "DEBUG:pyrpl.sshshell:\n",
      "root@rp-f08ffa:~# \n",
      "DEBUG:pyrpl.sshshell:killall monitor_server\n",
      "monitor_server: no process found\n",
      "root@rp-f08ffa:~# \n",
      "DEBUG:pyrpl.sshshell:\n",
      "root@rp-f08ffa:~# \n",
      ")EBUG:pyrpl.sshshell:echo $(($(date +%s) - $(date +%s -r \"//opt//pyrpl//fpga.bin\")) \n",
      "date: //opt//pyrpl//fpga.bin: No such file or directory\n",
      "-bash: 1516261431 - : syntax error: operand expected (error token is \"- \")\n",
      "root@rp-f08ffa:~# \n",
      ")EBUG:pyrpl.redpitaya:Could not retrieve bitfile age from: echo $(($(date +%s) - $(date +%s -r \"//opt//pyrpl//fpga.bin\")) \n",
      "date: //opt//pyrpl//fpga.bin: No such file or directory\n",
      "-bash: 1516261431 - : syntax error: operand expected (error token is \"- \")\n",
      "root@rp-f08ffa:~# \n",
      "DEBUG:pyrpl.sshshell://opt//pyrpl///monitor_server 2222\n",
      "\n",
      "DEBUG:pyrpl.redpitaya:Server application started on port 2222\n",
      "DEBUG:pyrpl.redpitaya_client:Client number 2 started\n",
      "DEBUG:pyrpl.memory:Checking change time of config file...\n",
      "DEBUG:pyrpl.memory:... no reloading required\n",
      "DEBUG:pyrpl.memory:Saving config file C:\\Users\\YY3\\pyrpl_user_dir\\config\\pyrpl_config_lock_eom.yml\n",
      "DEBUG:pyrpl.redpitaya:Client started successfully. \n",
      "INFO:pyrpl.redpitaya:Successfully connected to Redpitaya with hostname 192.168.202.72.\n"
     ]
    }
   ],
   "source": [
    "r = RedPitaya(config=config_file)#config_data['redpitaya'])"
   ]
  },
  {
   "cell_type": "code",
   "execution_count": 39,
   "metadata": {},
   "outputs": [
    {
     "data": {
      "text/plain": [
       "[pyrpl.hardware_modules.hk.HK,\n",
       " pyrpl.hardware_modules.ams.AMS,\n",
       " pyrpl.hardware_modules.scope.Scope,\n",
       " pyrpl.hardware_modules.sampler.Sampler,\n",
       " pyrpl.hardware_modules.asg.make_asg.<locals>.Asg,\n",
       " pyrpl.hardware_modules.asg.make_asg.<locals>.Asg,\n",
       " pyrpl.hardware_modules.pwm.Pwm,\n",
       " pyrpl.hardware_modules.pwm.Pwm,\n",
       " pyrpl.hardware_modules.iq.Iq,\n",
       " pyrpl.hardware_modules.iq.Iq,\n",
       " pyrpl.hardware_modules.iq.Iq,\n",
       " pyrpl.hardware_modules.pid.Pid,\n",
       " pyrpl.hardware_modules.pid.Pid,\n",
       " pyrpl.hardware_modules.pid.Pid,\n",
       " pyrpl.hardware_modules.trig.Trig,\n",
       " pyrpl.hardware_modules.iir.iir.IIR]"
      ]
     },
     "execution_count": 39,
     "metadata": {},
     "output_type": "execute_result"
    },
    {
     "name": "stderr",
     "output_type": "stream",
     "text": [
      "DEBUG:pyrpl.memory:Saving config file C:\\Users\\YY3\\pyrpl_user_dir\\config\\pyrpl_config_lock_eom.yml\n"
     ]
    }
   ],
   "source": [
    "r.cls_modules"
   ]
  },
  {
   "cell_type": "code",
   "execution_count": 12,
   "metadata": {},
   "outputs": [
    {
     "data": {
      "text/plain": [
       "1.0"
      ]
     },
     "execution_count": 12,
     "metadata": {},
     "output_type": "execute_result"
    }
   ],
   "source": []
  },
  {
   "cell_type": "code",
   "execution_count": 4,
   "metadata": {},
   "outputs": [
    {
     "ename": "NameError",
     "evalue": "name 'r' is not defined",
     "output_type": "error",
     "traceback": [
      "\u001b[1;31m---------------------------------------------------------------------------\u001b[0m",
      "\u001b[1;31mNameError\u001b[0m                                 Traceback (most recent call last)",
      "\u001b[1;32md:\\squdi\\squdi\\src\\qudi\\jupyternotebooks\\lock_wavelength_ple.ipynb Cell 10\u001b[0m line \u001b[0;36m1\n\u001b[1;32m----> <a href='vscode-notebook-cell:/d%3A/squdi/squdi/src/qudi/jupyternotebooks/lock_wavelength_ple.ipynb#X10sZmlsZQ%3D%3D?line=0'>1</a>\u001b[0m r\n",
      "\u001b[1;31mNameError\u001b[0m: name 'r' is not defined"
     ]
    }
   ],
   "source": [
    "r\n"
   ]
  },
  {
   "cell_type": "code",
   "execution_count": 6,
   "metadata": {},
   "outputs": [
    {
     "name": "stdout",
     "output_type": "stream",
     "text": [
      "waveform sin CHECK\n",
      "amplitude 0.010009765625 CHECK\n",
      "offset 0.0 CHECK\n",
      "frequency 1000.00761449337 CHECK\n",
      "trigger_source immediately CHECK\n",
      "output_direct out2 CHECK\n",
      "start_phase 0.0 CHECK\n"
     ]
    },
    {
     "name": "stderr",
     "output_type": "stream",
     "text": [
      "DEBUG:pyrpl.memory:Saving config file C:\\Users\\YY3\\pyrpl_user_dir\\config\\pyrpl_config_lock_eom.yml\n"
     ]
    }
   ],
   "source": [
    "r.asg1.setup(**config_data['asg1'])"
   ]
  },
  {
   "cell_type": "code",
   "execution_count": 7,
   "metadata": {},
   "outputs": [
    {
     "data": {
      "text/plain": [
       "['input',\n",
       " 'acbandwidth',\n",
       " 'frequency',\n",
       " 'bandwidth',\n",
       " 'quadrature_factor',\n",
       " 'output_signal',\n",
       " 'gain',\n",
       " 'amplitude',\n",
       " 'phase',\n",
       " 'output_direct',\n",
       " 'modulation_at_2f',\n",
       " 'demodulation_at_2f']"
      ]
     },
     "execution_count": 7,
     "metadata": {},
     "output_type": "execute_result"
    }
   ],
   "source": [
    "r.iq0._setup_attributes"
   ]
  },
  {
   "cell_type": "code",
   "execution_count": 10,
   "metadata": {},
   "outputs": [
    {
     "data": {
      "text/plain": [
       "True"
      ]
     },
     "execution_count": 10,
     "metadata": {},
     "output_type": "execute_result"
    }
   ],
   "source": [
    "'in1'.endswith('1')"
   ]
  },
  {
   "cell_type": "code",
   "execution_count": 25,
   "metadata": {},
   "outputs": [
    {
     "name": "stderr",
     "output_type": "stream",
     "text": [
      "DEBUG:pyrpl.modules:All IQ modules synchronized!\n"
     ]
    }
   ],
   "source": [
    "r.iq0.setup()"
   ]
  },
  {
   "cell_type": "code",
   "execution_count": 32,
   "metadata": {},
   "outputs": [
    {
     "data": {
      "text/plain": [
       "OrderedDict([('hk', <pyrpl.hardware_modules.hk.HK at 0x1b0e8696be0>),\n",
       "             ('ams', <pyrpl.hardware_modules.ams.AMS at 0x1b0e8696910>),\n",
       "             ('scope', <pyrpl.hardware_modules.scope.Scope at 0x1b0e8696a00>),\n",
       "             ('sampler',\n",
       "              <pyrpl.hardware_modules.sampler.Sampler at 0x1b0de331e20>),\n",
       "             ('asg0',\n",
       "              <pyrpl.hardware_modules.asg.make_asg.<locals>.Asg at 0x1b0e86ba220>),\n",
       "             ('asg1',\n",
       "              <pyrpl.hardware_modules.asg.make_asg.<locals>.Asg at 0x1b0e86ba2b0>),\n",
       "             ('pwm0', <pyrpl.hardware_modules.pwm.Pwm at 0x1b0e86ba370>),\n",
       "             ('pwm1', <pyrpl.hardware_modules.pwm.Pwm at 0x1b0e86ba6a0>),\n",
       "             ('iq0', <pyrpl.hardware_modules.iq.Iq at 0x1b0e86ba7f0>),\n",
       "             ('iq1', <pyrpl.hardware_modules.iq.Iq at 0x1b0e86ba580>),\n",
       "             ('iq2', <pyrpl.hardware_modules.iq.Iq at 0x1b0e86baa90>),\n",
       "             ('pid0', <pyrpl.hardware_modules.pid.Pid at 0x1b0e86ba940>),\n",
       "             ('pid1', <pyrpl.hardware_modules.pid.Pid at 0x1b0e86baaf0>),\n",
       "             ('pid2', <pyrpl.hardware_modules.pid.Pid at 0x1b0e86bae20>),\n",
       "             ('trig', <pyrpl.hardware_modules.trig.Trig at 0x1b0e86bafd0>),\n",
       "             ('iir', <pyrpl.hardware_modules.iir.iir.IIR at 0x1b0e86bae80>)])"
      ]
     },
     "execution_count": 32,
     "metadata": {},
     "output_type": "execute_result"
    }
   ],
   "source": [
    "r.modules"
   ]
  },
  {
   "cell_type": "code",
   "execution_count": 34,
   "metadata": {},
   "outputs": [
    {
     "name": "stderr",
     "output_type": "stream",
     "text": [
      "DEBUG:pyrpl.memory:Checking change time of config file...\n",
      "DEBUG:pyrpl.memory:... no reloading required\n",
      "DEBUG:pyrpl.attributes:SelectProperty input of module <pyrpl.hardware_modules.iq.Iq object at 0x000001B0E86BA7F0> has no options!\n",
      "DEBUG:pyrpl.attributes:SelectProperty input of module <pyrpl.hardware_modules.iq.Iq object at 0x000001B0E86BA7F0> has no options!\n"
     ]
    },
    {
     "name": "stdout",
     "output_type": "stream",
     "text": [
      "input in2 CHECK\n"
     ]
    },
    {
     "ename": "AttributeError",
     "evalue": "'NoneType' object has no attribute 'endswith'",
     "output_type": "error",
     "traceback": [
      "\u001b[1;31m---------------------------------------------------------------------------\u001b[0m",
      "\u001b[1;31mAttributeError\u001b[0m                            Traceback (most recent call last)",
      "\u001b[1;32md:\\squdi\\squdi\\src\\qudi\\jupyternotebooks\\lock_wavelength_ple.ipynb Cell 15\u001b[0m line \u001b[0;36m1\n\u001b[1;32m----> <a href='vscode-notebook-cell:/d%3A/squdi/squdi/src/qudi/jupyternotebooks/lock_wavelength_ple.ipynb#X52sZmlsZQ%3D%3D?line=0'>1</a>\u001b[0m r\u001b[39m.\u001b[39;49miq0\u001b[39m.\u001b[39;49m_load_setup_attributes()\n",
      "File \u001b[1;32md:\\squdi\\pyrpl\\pyrpl\\modules.py:515\u001b[0m, in \u001b[0;36mModule._load_setup_attributes\u001b[1;34m(self)\u001b[0m\n\u001b[0;32m    513\u001b[0m dic \u001b[39m=\u001b[39m {k: v \u001b[39mfor\u001b[39;00m k, v \u001b[39min\u001b[39;00m \u001b[39mself\u001b[39m\u001b[39m.\u001b[39mc\u001b[39m.\u001b[39m_data\u001b[39m.\u001b[39mitems() \u001b[39mif\u001b[39;00m k \u001b[39min\u001b[39;00m \u001b[39mself\u001b[39m\u001b[39m.\u001b[39m_setup_attributes}\n\u001b[0;32m    514\u001b[0m \u001b[39m# set those elements\u001b[39;00m\n\u001b[1;32m--> 515\u001b[0m \u001b[39mself\u001b[39;49m\u001b[39m.\u001b[39;49msetup_attributes \u001b[39m=\u001b[39m dic\n",
      "File \u001b[1;32md:\\squdi\\pyrpl\\pyrpl\\modules.py:502\u001b[0m, in \u001b[0;36mModule.setup_attributes\u001b[1;34m(self, kwds)\u001b[0m\n\u001b[0;32m    497\u001b[0m \u001b[39m@setup_attributes\u001b[39m\u001b[39m.\u001b[39msetter\n\u001b[0;32m    498\u001b[0m \u001b[39mdef\u001b[39;00m \u001b[39msetup_attributes\u001b[39m(\u001b[39mself\u001b[39m, kwds):\n\u001b[0;32m    499\u001b[0m \u001b[39m    \u001b[39m\u001b[39m\"\"\"\u001b[39;00m\n\u001b[0;32m    500\u001b[0m \u001b[39m    Sets the values of the setup attributes.\u001b[39;00m\n\u001b[0;32m    501\u001b[0m \u001b[39m    \"\"\"\u001b[39;00m\n\u001b[1;32m--> 502\u001b[0m     \u001b[39mself\u001b[39m\u001b[39m.\u001b[39msetup(\u001b[39m*\u001b[39m\u001b[39m*\u001b[39mkwds)\n",
      "File \u001b[1;32md:\\squdi\\pyrpl\\pyrpl\\modules.py:166\u001b[0m, in \u001b[0;36mModuleMetaClass.__init__.<locals>.setup\u001b[1;34m(self, **kwds)\u001b[0m\n\u001b[0;32m    164\u001b[0m         value \u001b[39m=\u001b[39m kwds\u001b[39m.\u001b[39mpop(key)\n\u001b[0;32m    165\u001b[0m         \u001b[39mprint\u001b[39m(key, value, \u001b[39m\"\u001b[39m\u001b[39mCHECK\u001b[39m\u001b[39m\"\u001b[39m)\n\u001b[1;32m--> 166\u001b[0m         \u001b[39msetattr\u001b[39;49m(\u001b[39mself\u001b[39;49m, key, value)\n\u001b[0;32m    167\u001b[0m \u001b[39mif\u001b[39;00m \u001b[39mlen\u001b[39m(kwds) \u001b[39m>\u001b[39m \u001b[39m0\u001b[39m:\n\u001b[0;32m    168\u001b[0m     \u001b[39mself\u001b[39m\u001b[39m.\u001b[39m_logger\u001b[39m.\u001b[39mwarning(\n\u001b[0;32m    169\u001b[0m         \u001b[39m\"\u001b[39m\u001b[39mTrying to load attribute \u001b[39m\u001b[39m%s\u001b[39;00m\u001b[39m of module \u001b[39m\u001b[39m%s\u001b[39;00m\u001b[39m that \u001b[39m\u001b[39m\"\u001b[39m\n\u001b[0;32m    170\u001b[0m         \u001b[39m\"\u001b[39m\u001b[39mare invalid setup_attributes.\u001b[39m\u001b[39m\"\u001b[39m,\n\u001b[0;32m    171\u001b[0m         \u001b[39msorted\u001b[39m(kwds\u001b[39m.\u001b[39mkeys())[\u001b[39m0\u001b[39m], \u001b[39mself\u001b[39m\u001b[39m.\u001b[39mname)\n",
      "File \u001b[1;32md:\\squdi\\pyrpl\\pyrpl\\attributes.py:240\u001b[0m, in \u001b[0;36mBaseRegister.__set__\u001b[1;34m(self, obj, value)\u001b[0m\n\u001b[0;32m    233\u001b[0m \u001b[39mdef\u001b[39;00m \u001b[39m__set__\u001b[39m(\u001b[39mself\u001b[39m, obj, value):\n\u001b[0;32m    234\u001b[0m \u001b[39m    \u001b[39m\u001b[39m\"\"\"\u001b[39;00m\n\u001b[0;32m    235\u001b[0m \u001b[39m    this is very similar to the __set__ function of the parent,\u001b[39;00m\n\u001b[0;32m    236\u001b[0m \u001b[39m    but here, value_updated is called with the return from\u001b[39;00m\n\u001b[0;32m    237\u001b[0m \u001b[39m    validate_and_normalize instead of with the new from get_value in\u001b[39;00m\n\u001b[0;32m    238\u001b[0m \u001b[39m    order to save one read operation.\u001b[39;00m\n\u001b[0;32m    239\u001b[0m \u001b[39m    \"\"\"\u001b[39;00m\n\u001b[1;32m--> 240\u001b[0m     value \u001b[39m=\u001b[39m \u001b[39mself\u001b[39;49m\u001b[39m.\u001b[39;49mvalidate_and_normalize(obj, value)\n\u001b[0;32m    241\u001b[0m     \u001b[39mself\u001b[39m\u001b[39m.\u001b[39mset_value(obj, value)\n\u001b[0;32m    242\u001b[0m     \u001b[39m# save new value in config, lauch signal and possibly call setup()\u001b[39;00m\n",
      "File \u001b[1;32md:\\squdi\\pyrpl\\pyrpl\\hardware_modules\\dsp.py:113\u001b[0m, in \u001b[0;36mInputSelectProperty.validate_and_normalize\u001b[1;34m(self, obj, value)\u001b[0m\n\u001b[0;32m    107\u001b[0m options \u001b[39m=\u001b[39m \u001b[39mself\u001b[39m\u001b[39m.\u001b[39moptions(obj)\n\u001b[0;32m    109\u001b[0m \u001b[39mif\u001b[39;00m value \u001b[39mnot\u001b[39;00m \u001b[39min\u001b[39;00m options:\n\u001b[0;32m    110\u001b[0m     \u001b[39m# if not an option, try to remove preceding text from options\u001b[39;00m\n\u001b[0;32m    111\u001b[0m     \u001b[39m# and see if a match is possible\u001b[39;00m\n\u001b[1;32m--> 113\u001b[0m     options \u001b[39m=\u001b[39m [o \u001b[39mfor\u001b[39;00m o \u001b[39min\u001b[39;00m \u001b[39mself\u001b[39m\u001b[39m.\u001b[39moptions(obj) \u001b[39mif\u001b[39;00m o\u001b[39m.\u001b[39mendswith(value)]\n\u001b[0;32m    114\u001b[0m     \u001b[39mif\u001b[39;00m \u001b[39mlen\u001b[39m(options) \u001b[39m>\u001b[39m \u001b[39m0\u001b[39m:\n\u001b[0;32m    115\u001b[0m         value, oldvalue \u001b[39m=\u001b[39m options[\u001b[39m0\u001b[39m], value\n",
      "File \u001b[1;32md:\\squdi\\pyrpl\\pyrpl\\hardware_modules\\dsp.py:113\u001b[0m, in \u001b[0;36m<listcomp>\u001b[1;34m(.0)\u001b[0m\n\u001b[0;32m    107\u001b[0m options \u001b[39m=\u001b[39m \u001b[39mself\u001b[39m\u001b[39m.\u001b[39moptions(obj)\n\u001b[0;32m    109\u001b[0m \u001b[39mif\u001b[39;00m value \u001b[39mnot\u001b[39;00m \u001b[39min\u001b[39;00m options:\n\u001b[0;32m    110\u001b[0m     \u001b[39m# if not an option, try to remove preceding text from options\u001b[39;00m\n\u001b[0;32m    111\u001b[0m     \u001b[39m# and see if a match is possible\u001b[39;00m\n\u001b[1;32m--> 113\u001b[0m     options \u001b[39m=\u001b[39m [o \u001b[39mfor\u001b[39;00m o \u001b[39min\u001b[39;00m \u001b[39mself\u001b[39m\u001b[39m.\u001b[39moptions(obj) \u001b[39mif\u001b[39;00m o\u001b[39m.\u001b[39;49mendswith(value)]\n\u001b[0;32m    114\u001b[0m     \u001b[39mif\u001b[39;00m \u001b[39mlen\u001b[39m(options) \u001b[39m>\u001b[39m \u001b[39m0\u001b[39m:\n\u001b[0;32m    115\u001b[0m         value, oldvalue \u001b[39m=\u001b[39m options[\u001b[39m0\u001b[39m], value\n",
      "\u001b[1;31mAttributeError\u001b[0m: 'NoneType' object has no attribute 'endswith'"
     ]
    }
   ],
   "source": [
    "r.iq0._load_setup_attributes()"
   ]
  },
  {
   "cell_type": "code",
   "execution_count": 20,
   "metadata": {},
   "outputs": [
    {
     "data": {
      "text/plain": [
       "{'acbandwidth': 19437.586193546253,\n",
       " 'amplitude': 0.9999923706054688,\n",
       " 'bandwidth': [1.1857967662444893, 1.1857967662444893],\n",
       " 'frequency': 1000.00761449337,\n",
       " 'gain': 1.0,\n",
       " 'phase': 270.0,\n",
       " 'quadrature_factor': 800.0,\n",
       " 'output_signal': 'quadrature',\n",
       " 'output_direct': 'off',\n",
       " 'input': 'in2',\n",
       " 'demodulation_at_2f': 'off'}"
      ]
     },
     "execution_count": 20,
     "metadata": {},
     "output_type": "execute_result"
    }
   ],
   "source": [
    "config_data['iq0']"
   ]
  },
  {
   "cell_type": "code",
   "execution_count": null,
   "metadata": {},
   "outputs": [],
   "source": [
    "inp = config_data['iq0'].pop(\"input\")\n",
    "\n",
    "r.iq0.input_options = [\"input2\"]"
   ]
  },
  {
   "cell_type": "code",
   "execution_count": 28,
   "metadata": {},
   "outputs": [
    {
     "ename": "AttributeError",
     "evalue": "'Pid' object has no attribute 'all_inputs'",
     "output_type": "error",
     "traceback": [
      "\u001b[1;31m---------------------------------------------------------------------------\u001b[0m",
      "\u001b[1;31mAttributeError\u001b[0m                            Traceback (most recent call last)",
      "\u001b[1;32md:\\squdi\\squdi\\src\\qudi\\jupyternotebooks\\lock_wavelength_ple.ipynb Cell 12\u001b[0m line \u001b[0;36m1\n\u001b[1;32m----> <a href='vscode-notebook-cell:/d%3A/squdi/squdi/src/qudi/jupyternotebooks/lock_wavelength_ple.ipynb#X14sZmlsZQ%3D%3D?line=0'>1</a>\u001b[0m r\u001b[39m.\u001b[39;49mpid0\u001b[39m.\u001b[39;49mall_inputs\n",
      "\u001b[1;31mAttributeError\u001b[0m: 'Pid' object has no attribute 'all_inputs'"
     ]
    }
   ],
   "source": [
    "r.pid0.all_inputs\n"
   ]
  },
  {
   "cell_type": "code",
   "execution_count": 2,
   "metadata": {},
   "outputs": [],
   "source": [
    "wavemeter_in = 1\n",
    "toptica_in = 0\n",
    "def lock_wm():\n",
    "    current_w = high_finesse_wavemeter.get_current_wavelength()\n",
    "    time.sleep(0.2)\n",
    "    with DLCpro(NetworkConnection(dl_pro.tcp_address)) as dlc:\n",
    "        dlc.laser1.dl.pc.external_input.signal.set(wavemeter_in)\n",
    "    high_finesse_wavemeter._wavemeter.set_reference_course(str(current_w), channel=2)\n",
    "    high_finesse_wavemeter._wavemeter.set_regulation_mode(True)\n",
    "\n",
    "def unlock_wm():\n",
    "    high_finesse_wavemeter._wavemeter.set_regulation_mode(False)\n",
    "    with DLCpro(NetworkConnection(dl_pro.tcp_address)) as dlc:\n",
    "        dlc.laser1.dl.pc.external_input.signal.set(toptica_in)\n",
    "\n",
    "\n",
    "def refocus_ple(range_ = 200, steps = 60, integrate=0.1):\n",
    "    #Range in MHz\n",
    "    range_ = range_ * 1e-6\n",
    "    center = float(high_finesse_wavemeter._wavemeter.get_reference_course(channel=2).decode(\"utf-8\"))\n",
    "    counts = []\n",
    "\n",
    "    for step in range(0, steps):\n",
    "        high_finesse_wavemeter._wavemeter.set_reference_course(f\"{center - range_/2 + step * range_/steps}\", channel=2)\n",
    "        time.sleep(integrate)\n",
    "        \n",
    "        counts.append(timetaggerlogic.counter.getDataNormalized()[0][-10:].mean())\n",
    "    time.sleep(integrate)\n",
    "    high_finesse_wavemeter._wavemeter.set_reference_course(f\"{center - range_/2 + counts.index(max(counts)) * range_/steps}\", channel=2)\n",
    "    print(counts.index(max(counts)))\n",
    "    return counts\n",
    "\n",
    "def detune_ple(detune):\n",
    "    detune = detune * 1e-6\n",
    "    center = float(high_finesse_wavemeter._wavemeter.get_reference_course(channel=2).decode(\"utf-8\"))\n",
    "    high_finesse_wavemeter._wavemeter.set_reference_course(f\"{center - detune}\", channel=2)\n",
    "\n",
    "def check_charge_state():\n",
    "    cur_cts = timetaggerlogic.counter.getDataNormalized()[0][-10:].mean()\n",
    "    if cur_cts < 450:\n",
    "        blue_repump(True)\n",
    "        time.sleep(0.01)\n",
    "        blue_repump(False)"
   ]
  },
  {
   "cell_type": "code",
   "execution_count": 57,
   "metadata": {},
   "outputs": [],
   "source": [
    "detune_ple(200)"
   ]
  },
  {
   "cell_type": "code",
   "execution_count": null,
   "metadata": {},
   "outputs": [],
   "source": [
    "cts = refocus_ple(range_ = 120, steps = 5, integrate=0.5)"
   ]
  },
  {
   "cell_type": "code",
   "execution_count": 4,
   "metadata": {},
   "outputs": [],
   "source": [
    "unlock_wm()"
   ]
  },
  {
   "cell_type": "code",
   "execution_count": 5,
   "metadata": {},
   "outputs": [],
   "source": [
    "lock_wm()\n",
    "time.sleep(15)"
   ]
  },
  {
   "cell_type": "code",
   "execution_count": 171,
   "metadata": {},
   "outputs": [],
   "source": [
    "bb = high_finesse_wavemeter.get_wavelength_buffer()"
   ]
  },
  {
   "cell_type": "code",
   "execution_count": 170,
   "metadata": {},
   "outputs": [],
   "source": [
    "high_finesse_wavemeter.empty_buffer()"
   ]
  },
  {
   "cell_type": "code",
   "execution_count": 142,
   "metadata": {},
   "outputs": [
    {
     "data": {
      "text/plain": [
       "True"
      ]
     },
     "execution_count": 142,
     "metadata": {},
     "output_type": "execute_result"
    }
   ],
   "source": [
    "ple_gui._mw.actionToggle_scan.triggered.emit()"
   ]
  },
  {
   "cell_type": "code",
   "execution_count": 111,
   "metadata": {},
   "outputs": [],
   "source": [
    "from matplotlib import pyplot as plt\n",
    "import numpy as np"
   ]
  },
  {
   "cell_type": "code",
   "execution_count": 172,
   "metadata": {},
   "outputs": [],
   "source": [
    "bb = np.array(bb)"
   ]
  },
  {
   "cell_type": "code",
   "execution_count": 173,
   "metadata": {},
   "outputs": [],
   "source": [
    "lam = 1e6 * (np.array(bb[:, 0]) - np.min(bb[:, 0][bb[:, 0] > 0 ] ))"
   ]
  },
  {
   "cell_type": "code",
   "execution_count": 174,
   "metadata": {},
   "outputs": [
    {
     "data": {
      "text/plain": [
       "[<matplotlib.lines.Line2D object at 0x000001AC69FF32E0>]"
      ]
     },
     "execution_count": 174,
     "metadata": {},
     "output_type": "execute_result"
    },
    {
     "data": {
      "image/png": "[encoded data removed]",
      "text/plain": [
       "<Figure size 640x480 with 1 Axes>"
      ]
     },
     "metadata": {},
     "output_type": "display_data"
    }
   ],
   "source": [
    "\n",
    "plt.plot(lam[lam > 0], bb[:, 1][lam>0])"
   ]
  },
  {
   "cell_type": "code",
   "execution_count": 175,
   "metadata": {},
   "outputs": [
    {
     "data": {
      "text/plain": [
       "-4392.9276033622955"
      ]
     },
     "execution_count": 175,
     "metadata": {},
     "output_type": "execute_result"
    }
   ],
   "source": [
    "np.min(lam[lam > 0]) - np.max(lam[lam > 0])"
   ]
  },
  {
   "cell_type": "code",
   "execution_count": 167,
   "metadata": {},
   "outputs": [
    {
     "data": {
      "text/plain": [
       "1.0824849908640042"
      ]
     },
     "execution_count": 167,
     "metadata": {},
     "output_type": "execute_result"
    }
   ],
   "source": [
    " / 3831"
   ]
  },
  {
   "cell_type": "code",
   "execution_count": 176,
   "metadata": {},
   "outputs": [
    {
     "data": {
      "text/plain": [
       "1.034965034965035"
      ]
     },
     "execution_count": 176,
     "metadata": {},
     "output_type": "execute_result"
    }
   ],
   "source": [
    "4292/"
   ]
  },
  {
   "cell_type": "code",
   "execution_count": 39,
   "metadata": {},
   "outputs": [],
   "source": [
    "tt_laser_scanner._update_position_ranges({\"a\": (0, 18000 * 1602 /1783)})"
   ]
  },
  {
   "cell_type": "code",
   "execution_count": 169,
   "metadata": {},
   "outputs": [],
   "source": [
    "tt_laser_scanner._update_position_ranges({\"a\": (0, 19650 * 0.92)})"
   ]
  },
  {
   "cell_type": "code",
   "execution_count": 180,
   "metadata": {},
   "outputs": [],
   "source": [
    "w1 = high_finesse_wavemeter.get_current_wavelength()"
   ]
  },
  {
   "cell_type": "code",
   "execution_count": 181,
   "metadata": {},
   "outputs": [
    {
     "data": {
      "text/plain": [
       "484.13022069300735"
      ]
     },
     "execution_count": 181,
     "metadata": {},
     "output_type": "execute_result"
    }
   ],
   "source": [
    "w1"
   ]
  },
  {
   "cell_type": "code",
   "execution_count": 182,
   "metadata": {},
   "outputs": [],
   "source": [
    "w2 = high_finesse_wavemeter.get_current_wavelength()"
   ]
  },
  {
   "cell_type": "code",
   "execution_count": 185,
   "metadata": {},
   "outputs": [
    {
     "data": {
      "text/plain": [
       "1.0063739582909241"
      ]
     },
     "execution_count": 185,
     "metadata": {},
     "output_type": "execute_result"
    }
   ],
   "source": [
    "(w2 - w1)*1e6 / (laser_scanner_logic.scan_ranges[\"a\"][1] - laser_scanner_logic.scan_ranges[\"a\"][0])"
   ]
  },
  {
   "cell_type": "code",
   "execution_count": null,
   "metadata": {},
   "outputs": [],
   "source": [
    "self.do_prescan_repump = False\n",
    "\n",
    "self.a_ch = {\n",
    "'a_ch1': SamplingFunctions.Idle(),\n",
    "'a_ch2': SamplingFunctions.Idle()\n",
    "}\n",
    "self.d_ch = {\n",
    "'d_ch1': False, \n",
    "'d_ch2': False, \n",
    "'d_ch3': False, \n",
    "'d_ch4': False,\n",
    "'d_ch5': False,\n",
    "'d_ch6': False,\n",
    "'d_ch7': False,\n",
    "'d_ch8': False,\n",
    "}\n",
    "\n",
    "def start_pulsed(self, enabled, ensemble_name):\n",
    "    self.pulsed.sigSampleBlockEnsemble.emit(ensemble_name)\n",
    "    self.pulsed.sigLoadBlockEnsemble.emit(ensemble_name) \n",
    "    self.pulsed.sigPulserRunningUpdated.emit(enabled)    "
   ]
  },
  {
   "cell_type": "code",
   "execution_count": 17,
   "metadata": {},
   "outputs": [
    {
     "ename": "NameError",
     "evalue": "name 'pulsestreamer' is not defined",
     "output_type": "error",
     "traceback": [
      "\u001b[1;31m---------------------------------------------------------------------------\u001b[0m",
      "\u001b[1;31mNameError\u001b[0m                                 Traceback (most recent call last)",
      "\u001b[1;32md:\\squdi\\squdi\\src\\qudi\\jupyternotebooks\\lock_wavelength_ple.ipynb Cell 22\u001b[0m line \u001b[0;36m1\n\u001b[1;32m----> <a href='vscode-notebook-cell:/d%3A/squdi/squdi/src/qudi/jupyternotebooks/lock_wavelength_ple.ipynb#X64sZmlsZQ%3D%3D?line=0'>1</a>\u001b[0m pulsestreamer\n",
      "\u001b[1;31mNameError\u001b[0m: name 'pulsestreamer' is not defined"
     ]
    }
   ],
   "source": [
    "pulsestreamer"
   ]
  },
  {
   "cell_type": "code",
   "execution_count": null,
   "metadata": {},
   "outputs": [],
   "source": []
  }
 ],
 "metadata": {
  "kernelspec": {
   "display_name": "squdi",
   "language": "python",
   "name": "python3"
  },
  "language_info": {
   "codemirror_mode": {
    "name": "ipython",
    "version": 3
   },
   "file_extension": ".py",
   "mimetype": "text/x-python",
   "name": "python",
   "nbconvert_exporter": "python",
   "pygments_lexer": "ipython3",
   "version": "3.9.18"
  }
 },
 "nbformat": 4,
 "nbformat_minor": 2
}

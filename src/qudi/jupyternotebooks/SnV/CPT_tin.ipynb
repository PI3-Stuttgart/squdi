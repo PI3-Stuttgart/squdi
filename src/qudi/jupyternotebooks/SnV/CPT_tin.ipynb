{
 "cells": [
  {
   "cell_type": "code",
   "execution_count": null,
   "metadata": {},
   "outputs": [],
   "source": [
    "import time\n",
    "from tqdm import tqdm\n",
    "from IPython.display import display\n",
    "pml = poi_manager_logic\n",
    "odmr = odmr_logic\n",
    "import matplotlib.pyplot as plt"
   ]
  },
  {
   "cell_type": "code",
   "execution_count": 3,
   "metadata": {},
   "outputs": [
    {
     "ename": "ImportError",
     "evalue": "No Qt implementations found",
     "output_type": "error",
     "traceback": [
      "\u001b[1;31m---------------------------------------------------------------------------\u001b[0m",
      "\u001b[1;31mImportError\u001b[0m                               Traceback (most recent call last)",
      "\u001b[1;32md:\\squdi\\squdi\\src\\qudi\\jupyternotebooks\\SnV\\CPT_tin.ipynb Cell 2\u001b[0m line \u001b[0;36m1\n\u001b[1;32m----> <a href='vscode-notebook-cell:/d%3A/squdi/squdi/src/qudi/jupyternotebooks/SnV/CPT_tin.ipynb#W5sZmlsZQ%3D%3D?line=0'>1</a>\u001b[0m \u001b[39mfrom\u001b[39;00m \u001b[39mpyrpl\u001b[39;00m \u001b[39mimport\u001b[39;00m Pyrpl\n",
      "File \u001b[1;32m~\\anaconda3\\envs\\squdi\\Lib\\site-packages\\shiboken2\\files.dir\\shibokensupport\\__feature__.py:142\u001b[0m, in \u001b[0;36m_import\u001b[1;34m(name, *args, **kwargs)\u001b[0m\n\u001b[0;32m    140\u001b[0m     flag \u001b[39m=\u001b[39m \u001b[39m-\u001b[39m\u001b[39m1\u001b[39m\n\u001b[0;32m    141\u001b[0m pyside_feature_dict[importing_module] \u001b[39m=\u001b[39m flag\n\u001b[1;32m--> 142\u001b[0m \u001b[39mreturn\u001b[39;00m original_import(name, \u001b[39m*\u001b[39margs, \u001b[39m*\u001b[39m\u001b[39m*\u001b[39mkwargs)\n",
      "File \u001b[1;32md:\\squdi\\pyrpl\\pyrpl\\__init__.py:66\u001b[0m\n\u001b[0;32m     63\u001b[0m     \u001b[39mpass\u001b[39;00m\n\u001b[0;32m     65\u001b[0m \u001b[39m# main imports\u001b[39;00m\n\u001b[1;32m---> 66\u001b[0m \u001b[39mfrom\u001b[39;00m \u001b[39m.\u001b[39;00m\u001b[39mredpitaya\u001b[39;00m \u001b[39mimport\u001b[39;00m RedPitaya\n\u001b[0;32m     67\u001b[0m \u001b[39mfrom\u001b[39;00m \u001b[39m.\u001b[39;00m\u001b[39mhardware_modules\u001b[39;00m \u001b[39mimport\u001b[39;00m \u001b[39m*\u001b[39m\n\u001b[0;32m     68\u001b[0m \u001b[39mfrom\u001b[39;00m \u001b[39m.\u001b[39;00m\u001b[39mattributes\u001b[39;00m \u001b[39mimport\u001b[39;00m \u001b[39m*\u001b[39m\n",
      "File \u001b[1;32m~\\anaconda3\\envs\\squdi\\Lib\\site-packages\\shiboken2\\files.dir\\shibokensupport\\__feature__.py:142\u001b[0m, in \u001b[0;36m_import\u001b[1;34m(name, *args, **kwargs)\u001b[0m\n\u001b[0;32m    140\u001b[0m     flag \u001b[39m=\u001b[39m \u001b[39m-\u001b[39m\u001b[39m1\u001b[39m\n\u001b[0;32m    141\u001b[0m pyside_feature_dict[importing_module] \u001b[39m=\u001b[39m flag\n\u001b[1;32m--> 142\u001b[0m \u001b[39mreturn\u001b[39;00m original_import(name, \u001b[39m*\u001b[39margs, \u001b[39m*\u001b[39m\u001b[39m*\u001b[39mkwargs)\n",
      "File \u001b[1;32md:\\squdi\\pyrpl\\pyrpl\\redpitaya.py:19\u001b[0m\n\u001b[0;32m      1\u001b[0m \u001b[39m###############################################################################\u001b[39;00m\n\u001b[0;32m      2\u001b[0m \u001b[39m#    pyrpl - DSP servo controller for quantum optics with the RedPitaya\u001b[39;00m\n\u001b[0;32m      3\u001b[0m \u001b[39m#    Copyright (C) 2014-2016  Leonhard Neuhaus  (neuhaus@spectro.jussieu.fr)\u001b[39;00m\n\u001b[1;32m   (...)\u001b[0m\n\u001b[0;32m     16\u001b[0m \u001b[39m#    along with this program.  If not, see <http://www.gnu.org/licenses/>.\u001b[39;00m\n\u001b[0;32m     17\u001b[0m \u001b[39m###############################################################################\u001b[39;00m\n\u001b[1;32m---> 19\u001b[0m \u001b[39mfrom\u001b[39;00m \u001b[39m.\u001b[39;00m \u001b[39mimport\u001b[39;00m redpitaya_client\n\u001b[0;32m     20\u001b[0m \u001b[39mfrom\u001b[39;00m \u001b[39m.\u001b[39;00m \u001b[39mimport\u001b[39;00m hardware_modules \u001b[39mas\u001b[39;00m rp\n\u001b[0;32m     21\u001b[0m \u001b[39mfrom\u001b[39;00m \u001b[39m.\u001b[39;00m\u001b[39msshshell\u001b[39;00m \u001b[39mimport\u001b[39;00m SshShell\n",
      "File \u001b[1;32m~\\anaconda3\\envs\\squdi\\Lib\\site-packages\\shiboken2\\files.dir\\shibokensupport\\__feature__.py:142\u001b[0m, in \u001b[0;36m_import\u001b[1;34m(name, *args, **kwargs)\u001b[0m\n\u001b[0;32m    140\u001b[0m     flag \u001b[39m=\u001b[39m \u001b[39m-\u001b[39m\u001b[39m1\u001b[39m\n\u001b[0;32m    141\u001b[0m pyside_feature_dict[importing_module] \u001b[39m=\u001b[39m flag\n\u001b[1;32m--> 142\u001b[0m \u001b[39mreturn\u001b[39;00m original_import(name, \u001b[39m*\u001b[39margs, \u001b[39m*\u001b[39m\u001b[39m*\u001b[39mkwargs)\n",
      "File \u001b[1;32md:\\squdi\\pyrpl\\pyrpl\\redpitaya_client.py:29\u001b[0m\n\u001b[0;32m     27\u001b[0m     \u001b[39mdef\u001b[39;00m \u001b[39msine\u001b[39m(frequency, duration):\n\u001b[0;32m     28\u001b[0m         \u001b[39mprint\u001b[39m(\u001b[39m\"\u001b[39m\u001b[39mCalled sine(frequency=\u001b[39m\u001b[39m%f\u001b[39;00m\u001b[39m, duration=\u001b[39m\u001b[39m%f\u001b[39;00m\u001b[39m)\u001b[39m\u001b[39m\"\u001b[39m \u001b[39m%\u001b[39m (frequency, duration))\n\u001b[1;32m---> 29\u001b[0m \u001b[39mfrom\u001b[39;00m \u001b[39m.\u001b[39;00m\u001b[39mhardware_modules\u001b[39;00m\u001b[39m.\u001b[39;00m\u001b[39mdsp\u001b[39;00m \u001b[39mimport\u001b[39;00m dsp_addr_base, DSP_INPUTS\n\u001b[0;32m     30\u001b[0m \u001b[39mfrom\u001b[39;00m \u001b[39m.\u001b[39;00m\u001b[39mpyrpl_utils\u001b[39;00m \u001b[39mimport\u001b[39;00m time\n\u001b[0;32m     32\u001b[0m \u001b[39m# global conter to assign a number to each client\u001b[39;00m\n\u001b[0;32m     33\u001b[0m \u001b[39m# only used for debugging purposes\u001b[39;00m\n",
      "File \u001b[1;32m~\\anaconda3\\envs\\squdi\\Lib\\site-packages\\shiboken2\\files.dir\\shibokensupport\\__feature__.py:142\u001b[0m, in \u001b[0;36m_import\u001b[1;34m(name, *args, **kwargs)\u001b[0m\n\u001b[0;32m    140\u001b[0m     flag \u001b[39m=\u001b[39m \u001b[39m-\u001b[39m\u001b[39m1\u001b[39m\n\u001b[0;32m    141\u001b[0m pyside_feature_dict[importing_module] \u001b[39m=\u001b[39m flag\n\u001b[1;32m--> 142\u001b[0m \u001b[39mreturn\u001b[39;00m original_import(name, \u001b[39m*\u001b[39margs, \u001b[39m*\u001b[39m\u001b[39m*\u001b[39mkwargs)\n",
      "File \u001b[1;32md:\\squdi\\pyrpl\\pyrpl\\hardware_modules\\__init__.py:27\u001b[0m\n\u001b[0;32m     25\u001b[0m \u001b[39mfrom\u001b[39;00m \u001b[39m.\u001b[39;00m\u001b[39mfilter\u001b[39;00m \u001b[39mimport\u001b[39;00m FilterModule\n\u001b[0;32m     26\u001b[0m \u001b[39mfrom\u001b[39;00m \u001b[39m.\u001b[39;00m\u001b[39mhk\u001b[39;00m \u001b[39mimport\u001b[39;00m HK\n\u001b[1;32m---> 27\u001b[0m \u001b[39mfrom\u001b[39;00m \u001b[39m.\u001b[39;00m\u001b[39mscope\u001b[39;00m \u001b[39mimport\u001b[39;00m Scope\n\u001b[0;32m     28\u001b[0m \u001b[39mfrom\u001b[39;00m \u001b[39m.\u001b[39;00m\u001b[39masg\u001b[39;00m \u001b[39mimport\u001b[39;00m Asg0, Asg1\n\u001b[0;32m     29\u001b[0m \u001b[39mfrom\u001b[39;00m \u001b[39m.\u001b[39;00m\u001b[39mpid\u001b[39;00m \u001b[39mimport\u001b[39;00m Pid\n",
      "File \u001b[1;32m~\\anaconda3\\envs\\squdi\\Lib\\site-packages\\shiboken2\\files.dir\\shibokensupport\\__feature__.py:142\u001b[0m, in \u001b[0;36m_import\u001b[1;34m(name, *args, **kwargs)\u001b[0m\n\u001b[0;32m    140\u001b[0m     flag \u001b[39m=\u001b[39m \u001b[39m-\u001b[39m\u001b[39m1\u001b[39m\n\u001b[0;32m    141\u001b[0m pyside_feature_dict[importing_module] \u001b[39m=\u001b[39m flag\n\u001b[1;32m--> 142\u001b[0m \u001b[39mreturn\u001b[39;00m original_import(name, \u001b[39m*\u001b[39margs, \u001b[39m*\u001b[39m\u001b[39m*\u001b[39mkwargs)\n",
      "File \u001b[1;32md:\\squdi\\pyrpl\\pyrpl\\hardware_modules\\scope.py:125\u001b[0m\n\u001b[0;32m    123\u001b[0m \u001b[39mimport\u001b[39;00m \u001b[39mtime\u001b[39;00m\n\u001b[0;32m    124\u001b[0m \u001b[39mfrom\u001b[39;00m \u001b[39m.\u001b[39;00m\u001b[39mdsp\u001b[39;00m \u001b[39mimport\u001b[39;00m all_inputs, dsp_addr_base, InputSelectRegister\n\u001b[1;32m--> 125\u001b[0m \u001b[39mfrom\u001b[39;00m \u001b[39m.\u001b[39;00m\u001b[39m.\u001b[39;00m\u001b[39macquisition_module\u001b[39;00m \u001b[39mimport\u001b[39;00m AcquisitionModule\n\u001b[0;32m    126\u001b[0m \u001b[39mfrom\u001b[39;00m \u001b[39m.\u001b[39;00m\u001b[39m.\u001b[39;00m\u001b[39masync_utils\u001b[39;00m \u001b[39mimport\u001b[39;00m wait, ensure_future, sleep_async\n\u001b[0;32m    127\u001b[0m \u001b[39mfrom\u001b[39;00m \u001b[39m.\u001b[39;00m\u001b[39m.\u001b[39;00m\u001b[39mpyrpl_utils\u001b[39;00m \u001b[39mimport\u001b[39;00m sorted_dict\n",
      "File \u001b[1;32m~\\anaconda3\\envs\\squdi\\Lib\\site-packages\\shiboken2\\files.dir\\shibokensupport\\__feature__.py:142\u001b[0m, in \u001b[0;36m_import\u001b[1;34m(name, *args, **kwargs)\u001b[0m\n\u001b[0;32m    140\u001b[0m     flag \u001b[39m=\u001b[39m \u001b[39m-\u001b[39m\u001b[39m1\u001b[39m\n\u001b[0;32m    141\u001b[0m pyside_feature_dict[importing_module] \u001b[39m=\u001b[39m flag\n\u001b[1;32m--> 142\u001b[0m \u001b[39mreturn\u001b[39;00m original_import(name, \u001b[39m*\u001b[39margs, \u001b[39m*\u001b[39m\u001b[39m*\u001b[39mkwargs)\n",
      "File \u001b[1;32md:\\squdi\\pyrpl\\pyrpl\\acquisition_module.py:58\u001b[0m\n\u001b[0;32m      1\u001b[0m \u001b[39m\"\"\"\u001b[39;00m\n\u001b[0;32m      2\u001b[0m \u001b[39mEverything involving asynchronicity in acquisition instruments is in this file.\u001b[39;00m\n\u001b[0;32m      3\u001b[0m \n\u001b[1;32m   (...)\u001b[0m\n\u001b[0;32m     55\u001b[0m \u001b[39m        data1, data2 = my_acquisition_coroutine(10)\u001b[39;00m\n\u001b[0;32m     56\u001b[0m \u001b[39m\"\"\"\u001b[39;00m\n\u001b[0;32m     57\u001b[0m \u001b[39mfrom\u001b[39;00m \u001b[39mcopy\u001b[39;00m \u001b[39mimport\u001b[39;00m copy\n\u001b[1;32m---> 58\u001b[0m \u001b[39mfrom\u001b[39;00m \u001b[39m.\u001b[39;00m\u001b[39masync_utils\u001b[39;00m \u001b[39mimport\u001b[39;00m ensure_future, sleep_async, wait, Event\n\u001b[0;32m     60\u001b[0m \u001b[39mfrom\u001b[39;00m \u001b[39m.\u001b[39;00m\u001b[39mmodule_attributes\u001b[39;00m \u001b[39mimport\u001b[39;00m \u001b[39m*\u001b[39m\n\u001b[0;32m     63\u001b[0m \u001b[39mclass\u001b[39;00m \u001b[39mAcquisitionError\u001b[39;00m(\u001b[39mValueError\u001b[39;00m):\n",
      "File \u001b[1;32m~\\anaconda3\\envs\\squdi\\Lib\\site-packages\\shiboken2\\files.dir\\shibokensupport\\__feature__.py:142\u001b[0m, in \u001b[0;36m_import\u001b[1;34m(name, *args, **kwargs)\u001b[0m\n\u001b[0;32m    140\u001b[0m     flag \u001b[39m=\u001b[39m \u001b[39m-\u001b[39m\u001b[39m1\u001b[39m\n\u001b[0;32m    141\u001b[0m pyside_feature_dict[importing_module] \u001b[39m=\u001b[39m flag\n\u001b[1;32m--> 142\u001b[0m \u001b[39mreturn\u001b[39;00m original_import(name, \u001b[39m*\u001b[39margs, \u001b[39m*\u001b[39m\u001b[39m*\u001b[39mkwargs)\n",
      "File \u001b[1;32md:\\squdi\\pyrpl\\pyrpl\\async_utils.py:40\u001b[0m\n\u001b[0;32m     38\u001b[0m \u001b[39mimport\u001b[39;00m \u001b[39masyncio\u001b[39;00m\n\u001b[0;32m     39\u001b[0m \u001b[39mfrom\u001b[39;00m \u001b[39masyncio\u001b[39;00m \u001b[39mimport\u001b[39;00m Future, iscoroutine\n\u001b[1;32m---> 40\u001b[0m \u001b[39mimport\u001b[39;00m \u001b[39mquamash\u001b[39;00m\n\u001b[0;32m     41\u001b[0m \u001b[39mimport\u001b[39;00m \u001b[39msys\u001b[39;00m\n\u001b[0;32m     44\u001b[0m logger \u001b[39m=\u001b[39m logging\u001b[39m.\u001b[39mgetLogger(name\u001b[39m=\u001b[39m\u001b[39m__name__\u001b[39m)\n",
      "File \u001b[1;32m~\\anaconda3\\envs\\squdi\\Lib\\site-packages\\shiboken2\\files.dir\\shibokensupport\\__feature__.py:142\u001b[0m, in \u001b[0;36m_import\u001b[1;34m(name, *args, **kwargs)\u001b[0m\n\u001b[0;32m    140\u001b[0m     flag \u001b[39m=\u001b[39m \u001b[39m-\u001b[39m\u001b[39m1\u001b[39m\n\u001b[0;32m    141\u001b[0m pyside_feature_dict[importing_module] \u001b[39m=\u001b[39m flag\n\u001b[1;32m--> 142\u001b[0m \u001b[39mreturn\u001b[39;00m original_import(name, \u001b[39m*\u001b[39margs, \u001b[39m*\u001b[39m\u001b[39m*\u001b[39mkwargs)\n",
      "File \u001b[1;32m~\\anaconda3\\envs\\squdi\\lib\\site-packages\\quamash-0.6.1-py3.9.egg\\quamash\\__init__.py:40\u001b[0m\n\u001b[0;32m     38\u001b[0m \t\t\t\u001b[39mbreak\u001b[39;00m\n\u001b[0;32m     39\u001b[0m \t\u001b[39melse\u001b[39;00m:\n\u001b[1;32m---> 40\u001b[0m \t\t\u001b[39mraise\u001b[39;00m \u001b[39mImportError\u001b[39;00m(\u001b[39m'\u001b[39m\u001b[39mNo Qt implementations found\u001b[39m\u001b[39m'\u001b[39m)\n\u001b[0;32m     42\u001b[0m logger\u001b[39m.\u001b[39minfo(\u001b[39m'\u001b[39m\u001b[39mUsing Qt Implementation: \u001b[39m\u001b[39m{}\u001b[39;00m\u001b[39m'\u001b[39m\u001b[39m.\u001b[39mformat(QtModuleName))\n\u001b[0;32m     44\u001b[0m QtCore \u001b[39m=\u001b[39m importlib\u001b[39m.\u001b[39mimport_module(QtModuleName \u001b[39m+\u001b[39m \u001b[39m'\u001b[39m\u001b[39m.QtCore\u001b[39m\u001b[39m'\u001b[39m, package\u001b[39m=\u001b[39mQtModuleName)\n",
      "\u001b[1;31mImportError\u001b[0m: No Qt implementations found"
     ]
    }
   ],
   "source": []
  },
  {
   "cell_type": "code",
   "execution_count": null,
   "metadata": {},
   "outputs": [],
   "source": [
    "#mapping of the frequency to power for the scan with the EOM with the maximum in the sidebands:\n",
    "frequencies = []\n",
    "powers = []"
   ]
  },
  {
   "cell_type": "code",
   "execution_count": 1,
   "metadata": {},
   "outputs": [
    {
     "data": {
      "text/plain": [
       "'step'"
      ]
     },
     "execution_count": 1,
     "metadata": {},
     "output_type": "execute_result"
    }
   ],
   "source": [
    "mw_source_smiq._device.query(':LIST:MODE?').strip('\\n').lower()"
   ]
  },
  {
   "cell_type": "code",
   "execution_count": null,
   "metadata": {},
   "outputs": [],
   "source": [
    "self._device.query(':FREQ:MODE?').strip('\\n').lower() == 'swe'"
   ]
  },
  {
   "cell_type": "code",
   "execution_count": null,
   "metadata": {},
   "outputs": [],
   "source": [
    "def run_auto_odmr(poi_names):\n",
    "    ref_poi = 'ref_auto_poi'\n",
    "    for poi_cur in poi_names:\n",
    "        go_to_poi(ref_poi, poi_cur)\n",
    "        odmr.start_odmr_scan()\n",
    "        while odmr.module_state()=='locked':\n",
    "            time.sleep(1)\n",
    "        odmr.save_odmr_data(tag=f'ROI1_POI={poi_cur}')\n",
    "        time.sleep(2)"
   ]
  }
 ],
 "metadata": {
  "kernelspec": {
   "display_name": "qudi",
   "language": "python",
   "name": "qudi"
  },
  "language_info": {
   "codemirror_mode": {
    "name": "ipython",
    "version": 3
   },
   "file_extension": ".py",
   "mimetype": "text/x-python",
   "name": "python",
   "nbconvert_exporter": "python",
   "pygments_lexer": "ipython3",
   "version": "3.9.18"
  }
 },
 "nbformat": 4,
 "nbformat_minor": 2
}

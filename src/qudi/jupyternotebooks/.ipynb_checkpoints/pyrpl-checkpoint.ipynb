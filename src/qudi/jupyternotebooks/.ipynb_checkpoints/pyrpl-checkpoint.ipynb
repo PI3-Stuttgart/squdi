{
 "cells": [
  {
   "cell_type": "code",
   "execution_count": null,
   "metadata": {},
   "outputs": [],
   "source": [
    "from pyrpl import Pyrpl"
   ]
  },
  {
   "cell_type": "code",
   "execution_count": 1,
   "metadata": {},
   "outputs": [
    {
     "ename": "NameError",
     "evalue": "name 'Pyrpl' is not defined",
     "output_type": "error",
     "traceback": [
      "\u001b[1;31m---------------------------------------------------------------------------\u001b[0m",
      "\u001b[1;31mNameError\u001b[0m                                 Traceback (most recent call last)",
      "\u001b[1;32md:\\squdi\\squdi\\src\\qudi\\jupyternotebooks\\pyrpl.ipynb Cell 1\u001b[0m line \u001b[0;36m1\n\u001b[1;32m----> <a href='vscode-notebook-cell:/d%3A/squdi/squdi/src/qudi/jupyternotebooks/pyrpl.ipynb#W0sZmlsZQ%3D%3D?line=0'>1</a>\u001b[0m rpl \u001b[39m=\u001b[39m Pyrpl(\u001b[39m'\u001b[39m\u001b[39m192.168.202.72\u001b[39m\u001b[39m'\u001b[39m)\u001b[39m.\u001b[39mredpitaya\n",
      "\u001b[1;31mNameError\u001b[0m: name 'Pyrpl' is not defined"
     ]
    }
   ],
   "source": [
    "rpl = Pyrpl('192.168.202.72').redpitaya"
   ]
  },
  {
   "cell_type": "code",
   "execution_count": null,
   "metadata": {},
   "outputs": [],
   "source": []
  }
 ],
 "metadata": {
  "kernelspec": {
   "display_name": "squdi",
   "language": "python",
   "name": "squdi"
  }
 },
 "nbformat": 4,
 "nbformat_minor": 2
}

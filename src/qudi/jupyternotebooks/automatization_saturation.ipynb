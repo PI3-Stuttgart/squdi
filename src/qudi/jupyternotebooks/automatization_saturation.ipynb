{
 "cells": [
  {
   "cell_type": "code",
   "execution_count": 1,
   "metadata": {},
   "outputs": [
    {
     "data": {
      "text/plain": [
       "<qudi.gui.ple.ple_gui.PLEScanGui(0x1832da93e30) at 0x000001832AA62640>"
      ]
     },
     "execution_count": 1,
     "metadata": {},
     "output_type": "execute_result"
    }
   ],
   "source": [
    "ple_gui"
   ]
  },
  {
   "cell_type": "code",
   "execution_count": 11,
   "metadata": {},
   "outputs": [],
   "source": [
    "steps = ['move', 'ple_saturation']"
   ]
  },
  {
   "cell_type": "code",
   "execution_count": 12,
   "metadata": {},
   "outputs": [],
   "source": [
    "automatization_logic.debug = True"
   ]
  },
  {
   "cell_type": "code",
   "execution_count": null,
   "metadata": {},
   "outputs": [],
   "source": [
    "automatization_logic.ple_saturation()"
   ]
  },
  {
   "cell_type": "code",
   "execution_count": 13,
   "metadata": {},
   "outputs": [],
   "source": [
    "automatization_logic.start(steps)"
   ]
  },
  {
   "cell_type": "code",
   "execution_count": 12,
   "metadata": {},
   "outputs": [],
   "source": [
    "automatization_logic.start_ple()"
   ]
  },
  {
   "cell_type": "code",
   "execution_count": 15,
   "metadata": {},
   "outputs": [
    {
     "data": {
      "text/plain": [
       "42"
      ]
     },
     "execution_count": 15,
     "metadata": {},
     "output_type": "execute_result"
    }
   ],
   "source": [
    "len(automatization_logic.saturation_parameters) "
   ]
  },
  {
   "cell_type": "code",
   "execution_count": 19,
   "metadata": {},
   "outputs": [
    {
     "data": {
      "text/plain": [
       "array([[ 10, -10],\n",
       "       [ 30, -10],\n",
       "       [ 43, -10],\n",
       "       [ 56, -10],\n",
       "       [ 60, -10],\n",
       "       [ 70, -10],\n",
       "       [ 80, -10],\n",
       "       [ 90, -10],\n",
       "       [100, -10],\n",
       "       [ 10,  -9],\n",
       "       [ 30,  -9],\n",
       "       [ 43,  -9],\n",
       "       [ 56,  -9],\n",
       "       [ 60,  -9],\n",
       "       [ 70,  -9],\n",
       "       [ 80,  -9],\n",
       "       [ 90,  -9],\n",
       "       [100,  -9],\n",
       "       [ 10,  -8],\n",
       "       [ 30,  -8],\n",
       "       [ 43,  -8],\n",
       "       [ 56,  -8],\n",
       "       [ 60,  -8],\n",
       "       [ 70,  -8],\n",
       "       [ 80,  -8],\n",
       "       [ 90,  -8],\n",
       "       [100,  -8],\n",
       "       [ 10,  -7],\n",
       "       [ 30,  -7],\n",
       "       [ 43,  -7],\n",
       "       [ 56,  -7],\n",
       "       [ 60,  -7],\n",
       "       [ 70,  -7],\n",
       "       [ 80,  -7],\n",
       "       [ 90,  -7],\n",
       "       [100,  -7],\n",
       "       [ 10,  -6],\n",
       "       [ 30,  -6],\n",
       "       [ 43,  -6],\n",
       "       [ 56,  -6],\n",
       "       [ 60,  -6],\n",
       "       [ 70,  -6],\n",
       "       [ 80,  -6],\n",
       "       [ 90,  -6],\n",
       "       [100,  -6]])"
      ]
     },
     "execution_count": 19,
     "metadata": {},
     "output_type": "execute_result"
    }
   ],
   "source": [
    "automatization_logic.saturation_parameters"
   ]
  },
  {
   "cell_type": "code",
   "execution_count": 10,
   "metadata": {},
   "outputs": [
    {
     "data": {
      "text/plain": [
       "5"
      ]
     },
     "execution_count": 10,
     "metadata": {},
     "output_type": "execute_result"
    }
   ],
   "source": [
    "power_controller_remote.motor_position"
   ]
  },
  {
   "cell_type": "code",
   "execution_count": 3,
   "metadata": {},
   "outputs": [],
   "source": [
    "automatization_logic.powercontroller_logic.motor_position = 5"
   ]
  },
  {
   "cell_type": "code",
   "execution_count": 17,
   "metadata": {},
   "outputs": [],
   "source": [
    "automatization_logic.laser_controller.eta_voltage = -9"
   ]
  },
  {
   "cell_type": "code",
   "execution_count": 4,
   "metadata": {},
   "outputs": [],
   "source": [
    "laser_controller_remote.eta_voltage = -10"
   ]
  },
  {
   "cell_type": "code",
   "execution_count": null,
   "metadata": {},
   "outputs": [],
   "source": []
  }
 ],
 "metadata": {
  "kernelspec": {
   "display_name": "qudi",
   "language": "python",
   "name": "qudi"
  },
  "language_info": {
   "codemirror_mode": {
    "name": "ipython",
    "version": 3
   },
   "file_extension": ".py",
   "mimetype": "text/x-python",
   "name": "python",
   "nbconvert_exporter": "python",
   "pygments_lexer": "ipython3",
   "version": "3.9.15"
  },
  "orig_nbformat": 4,
  "vscode": {
   "interpreter": {
    "hash": "fdfef79aed3382f31e42319146272c5a46e705e8069171c0c658ee2f3051c9fa"
   }
  }
 },
 "nbformat": 4,
 "nbformat_minor": 2
}

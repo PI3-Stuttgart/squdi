{
 "cells": [
  {
   "cell_type": "code",
   "execution_count": 1,
   "id": "0286ec77-eca3-49b7-bb6f-b6c3ea237f41",
   "metadata": {},
   "outputs": [],
   "source": [
    "from qudi.hardware.picoquant.ppg512 import *\n",
    "wg = waveform_generation()"
   ]
  },
  {
   "cell_type": "code",
   "execution_count": 2,
   "id": "75f3e114-54af-496d-aad1-99e2a72e4a31",
   "metadata": {},
   "outputs": [
    {
     "name": "stdout",
     "output_type": "stream",
     "text": [
      "Stored waveform in C:\\Users\\yy3\\bwSyncShare\\01_Uni Stuttgart\\PhD\\11_Git\\squdi\\src\\qudi\\hardware\\picoquant\\waveform.txt\n"
     ]
    }
   ],
   "source": [
    "pulses = wg.create_pulses(2, 10, 300, pulse_shape='gauss')\n",
    "wg.create_a_waveform_file(pulses)"
   ]
  },
  {
   "cell_type": "code",
   "execution_count": 3,
   "id": "88cc89d7-07b2-45e7-a466-e8d368471448",
   "metadata": {},
   "outputs": [
    {
     "data": {
      "image/png": "[encoded data removed]",
      "text/plain": [
       "<Figure size 640x480 with 1 Axes>"
      ]
     },
     "metadata": {},
     "output_type": "display_data"
    }
   ],
   "source": [
    "wg.plot_waveform_from_file()"
   ]
  },
  {
   "cell_type": "code",
   "execution_count": 71,
   "id": "3656a0b7-0aa7-4c8f-9171-b6ba3604bdd4",
   "metadata": {},
   "outputs": [],
   "source": [
    "def create_pulses(num_pulses, width, spacing, amp=255, pulse_shape='square', initial_delay=0):\n",
    "    \n",
    "    voltages = np.zeros((512,))\n",
    "    if amp > 255: raise Exception('amp needs to be 255 or less.')\n",
    "    if num_pulses*(width+spacing) - spacing > 512: raise Exception('length of pulsetrain needs to be 512 bits or less.')\n",
    "        \n",
    "    if pulse_shape == 'square':    \n",
    "       pos = initial_delay \n",
    "       for i in range(num_pulses):\n",
    "           voltages[pos:pos+width]=np.ones(width)*amp\n",
    "           pos+=width+spacing\n",
    "           \n",
    "    elif pulse_shape == 'gauss': \n",
    "        sigma = pulse_width / (2 * np.sqrt(2 * np.log(2)))\n",
    "        if initial_delay == 0:\n",
    "            initial_delay = pulse_width\n",
    "            \n",
    "        # Generate pulses\n",
    "        for i in range(num_pulses):\n",
    "            # Calculate the center of each pulse\n",
    "            center = i * spacing + initial_delay\n",
    "    \n",
    "            # Generate the Gaussian pulse\n",
    "            x = np.arange(512)\n",
    "            pulse = amp*np.exp(-(x - center)**2 / (2 * sigma**2))\n",
    "    \n",
    "            # Add the pulse to the output array\n",
    "            voltages += pulse\n",
    "\n",
    "        \n",
    "        \n",
    "\n",
    "    \n",
    "    else:\n",
    "        raise Exception('Typo or pulse shape not (yet) availible.')\n",
    "\n",
    "    return voltages\n",
    "        "
   ]
  },
  {
   "cell_type": "code",
   "execution_count": 48,
   "id": "128247ed-47ed-4bc4-b17a-3c94a7622813",
   "metadata": {},
   "outputs": [],
   "source": [
    "\n",
    "gauss = lambda i, pos : amp*np.exp(-(i-pos)**2.0 / width**2.0)"
   ]
  },
  {
   "cell_type": "code",
   "execution_count": 51,
   "id": "0abf1c22-ef78-4ab8-b7fb-fc7948e047d0",
   "metadata": {},
   "outputs": [],
   "source": [
    "import numpy as np\n",
    "\n",
    "def generate_gaussian_pulses(num_pulses, pulse_spacing, pulse_width):\n",
    "    # Initialize the output array\n",
    "    output = np.zeros(512)\n",
    "\n",
    "    # Calculate standard deviation from the pulse width\n",
    "    # Assuming pulse_width refers to full width at half maximum (FWHM)\n",
    "    sigma = pulse_width / (2 * np.sqrt(2 * np.log(2)))\n",
    "\n",
    "    # Generate pulses\n",
    "    for i in range(num_pulses):\n",
    "        # Calculate the center of each pulse\n",
    "        center = i * pulse_spacing\n",
    "\n",
    "        # Generate the Gaussian pulse\n",
    "        x = np.arange(512)\n",
    "        pulse = np.exp(-(x - center)**2 / (2 * sigma**2))\n",
    "\n",
    "        # Add the pulse to the output array\n",
    "        output += pulse\n",
    "\n",
    "    # Scale to max amplitude 255 and convert to integers\n",
    "    output = np.clip(output, 0, 1)  # Normalize between 0 and 1\n",
    "    output = (output * 255).astype(int)\n",
    "\n",
    "    return output\n",
    "\n",
    "# Example usage\n",
    "num_pulses = 5\n",
    "pulse_spacing = 100\n",
    "pulse_width = 20\n",
    "output = generate_gaussian_pulses(num_pulses, pulse_spacing, pulse_width)\n"
   ]
  },
  {
   "cell_type": "code",
   "execution_count": null,
   "id": "3680c48b-19d7-433b-9474-f986a7ae8d98",
   "metadata": {},
   "outputs": [],
   "source": []
  }
 ],
 "metadata": {
  "kernelspec": {
   "display_name": "qudi",
   "language": "python",
   "name": "qudi"
  }
 },
 "nbformat": 4,
 "nbformat_minor": 5
}

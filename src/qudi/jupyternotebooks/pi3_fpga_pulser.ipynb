{
 "cells": [
  {
   "cell_type": "code",
   "execution_count": 3,
   "metadata": {},
   "outputs": [
    {
     "data": {
      "text/plain": [
       "0"
      ]
     },
     "execution_count": 3,
     "metadata": {},
     "output_type": "execute_result"
    }
   ],
   "source": [
    "fpga_pulser_ok.pulser_on()"
   ]
  },
  {
   "cell_type": "code",
   "execution_count": 4,
   "metadata": {},
   "outputs": [
    {
     "data": {
      "text/plain": [
       "0"
      ]
     },
     "execution_count": 4,
     "metadata": {},
     "output_type": "execute_result"
    }
   ],
   "source": [
    "fpga_pulser_ok.pulser_off()"
   ]
  },
  {
   "cell_type": "code",
   "execution_count": 6,
   "metadata": {},
   "outputs": [
    {
     "data": {
      "text/plain": [
       "{'d_ch1': True, 'd_ch2': True, 'd_ch3': True, 'd_ch4': True, 'd_ch5': True, 'd_ch6': True, 'd_ch7': True, 'd_ch8': True}"
      ]
     },
     "execution_count": 6,
     "metadata": {},
     "output_type": "execute_result"
    }
   ],
   "source": [
    "fpga_pulser_ok.get_active_channels()"
   ]
  },
  {
   "cell_type": "code",
   "execution_count": 1,
   "metadata": {},
   "outputs": [
    {
     "data": {
      "text/plain": [
       "0"
      ]
     },
     "execution_count": 1,
     "metadata": {},
     "output_type": "execute_result"
    }
   ],
   "source": [
    "fpga_pulser_ok.reset()"
   ]
  },
  {
   "cell_type": "code",
   "execution_count": 2,
   "metadata": {},
   "outputs": [
    {
     "data": {
      "text/plain": [
       "0"
      ]
     },
     "execution_count": 2,
     "metadata": {},
     "output_type": "execute_result"
    }
   ],
   "source": [
    "fpga_pulser_ok._connect_fpga()"
   ]
  },
  {
   "cell_type": "code",
   "execution_count": 3,
   "metadata": {},
   "outputs": [
    {
     "data": {
      "text/plain": [
       "<qudi.hardware.fpga_pulser.ok.FrontPanel; proxy of <Swig Object of type 'FrontPanel *' at 0x000001F94C7BA0F0> >"
      ]
     },
     "execution_count": 3,
     "metadata": {},
     "output_type": "execute_result"
    }
   ],
   "source": [
    "fpga_pulser_ok.fpga"
   ]
  },
  {
   "cell_type": "code",
   "execution_count": null,
   "metadata": {},
   "outputs": [],
   "source": [
    "fpga_pulser_ok.write()"
   ]
  },
  {
   "cell_type": "code",
   "execution_count": 4,
   "metadata": {},
   "outputs": [
    {
     "data": {
      "text/plain": [
       "950000000.0"
      ]
     },
     "execution_count": 4,
     "metadata": {},
     "output_type": "execute_result"
    }
   ],
   "source": [
    "fpga_pulser_ok.set_sample_rate()"
   ]
  },
  {
   "cell_type": "code",
   "execution_count": 17,
   "metadata": {},
   "outputs": [],
   "source": [
    "import qudi.hardware.fpga_pulser.ok as ok"
   ]
  },
  {
   "cell_type": "code",
   "execution_count": 18,
   "metadata": {},
   "outputs": [],
   "source": [
    "PLL = ok.PLL22150()"
   ]
  },
  {
   "cell_type": "code",
   "execution_count": 24,
   "metadata": {},
   "outputs": [],
   "source": [
    "PLL.SetVCOParameters(250, 48)\n",
    "PLL.SetOutputSource(0, 5)\n",
    "PLL.SetOutputEnable(0, True)\n",
    "PLL.SetOutputEnable(1, True)"
   ]
  },
  {
   "cell_type": "code",
   "execution_count": null,
   "metadata": {},
   "outputs": [],
   "source": [
    "try:\n",
    "    iterator = iter(channels)\n",
    "except:\n",
    "    self.setResetValue(channels)\n",
    "else:\n",
    "    bits = 0\n",
    "    for channel in channels:\n",
    "        bits = bits | (1 << self.channel_map[channel])\n",
    "    self.setResetValue(bits)\n",
    "self.halt()"
   ]
  },
  {
   "cell_type": "code",
   "execution_count": 27,
   "metadata": {},
   "outputs": [],
   "source": [
    "ret = fpga_pulser_ok.query()"
   ]
  },
  {
   "cell_type": "code",
   "execution_count": null,
   "metadata": {},
   "outputs": [],
   "source": []
  },
  {
   "cell_type": "code",
   "execution_count": 33,
   "metadata": {},
   "outputs": [
    {
     "data": {
      "text/plain": [
       "bytearray(b'\\x00\\x00\\x00\\x00\\x00\\x00\\x00\\x00\\x00\\x00\\x00\\x00\\x00\\x00\\x00\\x00\\x00\\x00\\x00\\x00\\x00\\x00\\x00\\x00\\x00\\x00\\x00\\x00\\x00\\x00\\x00\\x00\\x00\\x00\\x00\\x00\\x00\\x00\\x00\\x00\\x00\\x00\\x00\\x00\\x00\\x00\\x00\\x00\\x00\\x00\\x00\\x00\\x00\\x00\\x00\\x00\\x00\\x00\\x00\\x00\\x00\\x00\\x00\\x00\\x00\\x00\\x00\\x00\\x00\\x00\\x00\\x00\\x00\\x00\\x00\\x00\\x00\\x00\\x00\\x00\\x00\\x00\\x00\\x00\\x00\\x00\\x00\\x00\\x00\\x00\\x00\\x00\\x00\\x00\\x00\\x00\\x00\\x00\\x00\\x00\\x00\\x00\\x00\\x00\\x00\\x00\\x00\\x00\\x00\\x00\\x00\\x00\\x00\\x00\\x00\\x00\\x00\\x00\\x00\\x00\\x00\\x00\\x00\\x00\\x00\\x00\\x00\\x00\\x00\\x00\\x00\\x00\\x00\\x00\\x00\\x00\\x00\\x00\\x00\\x00\\x00\\x00\\x00\\x00\\x00\\x00\\x00\\x00\\x00\\x00\\x00\\x00\\x00\\x00\\x00\\x00\\x00\\x00\\x00\\x00\\x00\\x00\\x00\\x00\\x00\\x00\\x00\\x00\\x00\\x00\\x00\\x00\\x00\\x00\\x00\\x00\\x00\\x00\\x00\\x00\\x00\\x00\\x00\\x00\\x00\\x00\\x00\\x00\\x00\\x00\\x00\\x00\\x00\\x00\\x00\\x00\\x00\\x00\\x00\\x00\\x00\\x00\\x00\\x00\\x00\\x00\\x00\\x00\\x00\\x00\\x00\\x00\\x00\\x00\\x00\\x00\\x00\\x00\\x00\\x00\\x00\\x00\\x00\\x00\\x00\\x00\\x00\\x00\\x00\\x00\\x00\\x00\\x00\\x00\\x00\\x00\\x00\\x00\\x00\\x00\\x00\\x00\\x00\\x00\\x00\\x00\\x00\\x00\\x00\\x00\\x00\\x00\\x00\\x00\\x00\\x00')"
      ]
     },
     "execution_count": 33,
     "metadata": {},
     "output_type": "execute_result"
    }
   ],
   "source": [
    "bytearray(np.zeros(32))"
   ]
  },
  {
   "cell_type": "code",
   "execution_count": 39,
   "metadata": {},
   "outputs": [
    {
     "ename": "AttributeError",
     "evalue": "__module__",
     "output_type": "error",
     "traceback": [
      "\u001b[1;31m---------------------------------------------------------------------------\u001b[0m",
      "\u001b[1;31mAttributeError\u001b[0m                            Traceback (most recent call last)",
      "Cell \u001b[1;32mIn[39], line 1\u001b[0m\n\u001b[1;32m----> 1\u001b[0m fpga_pulser_ok\u001b[39m.\u001b[39;49mfpga\u001b[39m.\u001b[39;49mGetPLL22150Configuration(PLL)\n",
      "File \u001b[1;32m~\\Anaconda2\\envs\\scudi\\lib\\site-packages\\rpyc\\core\\netref.py:240\u001b[0m, in \u001b[0;36m_make_method.<locals>.__call__\u001b[1;34m(_self, *args, **kwargs)\u001b[0m\n\u001b[0;32m    238\u001b[0m \u001b[39mdef\u001b[39;00m \u001b[39m__call__\u001b[39m(_self, \u001b[39m*\u001b[39margs, \u001b[39m*\u001b[39m\u001b[39m*\u001b[39mkwargs):\n\u001b[0;32m    239\u001b[0m     kwargs \u001b[39m=\u001b[39m \u001b[39mtuple\u001b[39m(kwargs\u001b[39m.\u001b[39mitems())\n\u001b[1;32m--> 240\u001b[0m     \u001b[39mreturn\u001b[39;00m syncreq(_self, consts\u001b[39m.\u001b[39;49mHANDLE_CALL, args, kwargs)\n",
      "File \u001b[1;32m~\\Anaconda2\\envs\\scudi\\lib\\site-packages\\rpyc\\core\\netref.py:63\u001b[0m, in \u001b[0;36msyncreq\u001b[1;34m(proxy, handler, *args)\u001b[0m\n\u001b[0;32m     51\u001b[0m \u001b[39m\u001b[39m\u001b[39m\"\"\"Performs a synchronous request on the given proxy object.\u001b[39;00m\n\u001b[0;32m     52\u001b[0m \u001b[39mNot intended to be invoked directly.\u001b[39;00m\n\u001b[0;32m     53\u001b[0m \n\u001b[1;32m   (...)\u001b[0m\n\u001b[0;32m     60\u001b[0m \u001b[39m:returns: the result of the operation\u001b[39;00m\n\u001b[0;32m     61\u001b[0m \u001b[39m\"\"\"\u001b[39;00m\n\u001b[0;32m     62\u001b[0m conn \u001b[39m=\u001b[39m \u001b[39mobject\u001b[39m\u001b[39m.\u001b[39m\u001b[39m__getattribute__\u001b[39m(proxy, \u001b[39m\"\u001b[39m\u001b[39m____conn__\u001b[39m\u001b[39m\"\u001b[39m)\n\u001b[1;32m---> 63\u001b[0m \u001b[39mreturn\u001b[39;00m conn\u001b[39m.\u001b[39;49msync_request(handler, proxy, \u001b[39m*\u001b[39;49margs)\n",
      "File \u001b[1;32m~\\Anaconda2\\envs\\scudi\\lib\\site-packages\\rpyc\\core\\protocol.py:718\u001b[0m, in \u001b[0;36mConnection.sync_request\u001b[1;34m(self, handler, *args)\u001b[0m\n\u001b[0;32m    715\u001b[0m _async_res \u001b[39m=\u001b[39m \u001b[39mself\u001b[39m\u001b[39m.\u001b[39masync_request(handler, \u001b[39m*\u001b[39margs, timeout\u001b[39m=\u001b[39mtimeout)\n\u001b[0;32m    716\u001b[0m \u001b[39m# _async_res is an instance of AsyncResult, the value property invokes Connection.serve via AsyncResult.wait\u001b[39;00m\n\u001b[0;32m    717\u001b[0m \u001b[39m# So, the _recvlock can be acquired multiple times by the owning thread and warrants the use of RLock\u001b[39;00m\n\u001b[1;32m--> 718\u001b[0m \u001b[39mreturn\u001b[39;00m _async_res\u001b[39m.\u001b[39;49mvalue\n",
      "File \u001b[1;32m~\\Anaconda2\\envs\\scudi\\lib\\site-packages\\rpyc\\core\\async_.py:106\u001b[0m, in \u001b[0;36mAsyncResult.value\u001b[1;34m(self)\u001b[0m\n\u001b[0;32m     98\u001b[0m \u001b[39m@property\u001b[39m\n\u001b[0;32m     99\u001b[0m \u001b[39mdef\u001b[39;00m \u001b[39mvalue\u001b[39m(\u001b[39mself\u001b[39m):\n\u001b[0;32m    100\u001b[0m \u001b[39m    \u001b[39m\u001b[39m\"\"\"Returns the result of the operation. If the result has not yet\u001b[39;00m\n\u001b[0;32m    101\u001b[0m \u001b[39m    arrived, accessing this property will wait for it. If the result does\u001b[39;00m\n\u001b[0;32m    102\u001b[0m \u001b[39m    not arrive before the expiry time elapses, :class:`AsyncResultTimeout`\u001b[39;00m\n\u001b[0;32m    103\u001b[0m \u001b[39m    is raised. If the returned result is an exception, it will be raised\u001b[39;00m\n\u001b[0;32m    104\u001b[0m \u001b[39m    here. Otherwise, the result is returned directly.\u001b[39;00m\n\u001b[0;32m    105\u001b[0m \u001b[39m    \"\"\"\u001b[39;00m\n\u001b[1;32m--> 106\u001b[0m     \u001b[39mself\u001b[39;49m\u001b[39m.\u001b[39;49mwait()\n\u001b[0;32m    107\u001b[0m     \u001b[39mif\u001b[39;00m \u001b[39mself\u001b[39m\u001b[39m.\u001b[39m_is_exc:\n\u001b[0;32m    108\u001b[0m         \u001b[39mraise\u001b[39;00m \u001b[39mself\u001b[39m\u001b[39m.\u001b[39m_obj\n",
      "File \u001b[1;32m~\\Anaconda2\\envs\\scudi\\lib\\site-packages\\rpyc\\core\\async_.py:51\u001b[0m, in \u001b[0;36mAsyncResult.wait\u001b[1;34m(self)\u001b[0m\n\u001b[0;32m     44\u001b[0m \u001b[39m\u001b[39m\u001b[39m\"\"\"Waits for the result to arrive. If the AsyncResult object has an\u001b[39;00m\n\u001b[0;32m     45\u001b[0m \u001b[39mexpiry set, and the result did not arrive within that timeout,\u001b[39;00m\n\u001b[0;32m     46\u001b[0m \u001b[39man :class:`AsyncResultTimeout` exception is raised\"\"\"\u001b[39;00m\n\u001b[0;32m     47\u001b[0m \u001b[39mwhile\u001b[39;00m \u001b[39mnot\u001b[39;00m (\u001b[39mself\u001b[39m\u001b[39m.\u001b[39m_is_ready \u001b[39mor\u001b[39;00m \u001b[39mself\u001b[39m\u001b[39m.\u001b[39mexpired):\n\u001b[0;32m     48\u001b[0m     \u001b[39m# Serve the connection since we are not ready. Suppose\u001b[39;00m\n\u001b[0;32m     49\u001b[0m     \u001b[39m# the reply for our seq is served. The callback is this class\u001b[39;00m\n\u001b[0;32m     50\u001b[0m     \u001b[39m# so __call__ sets our obj and _is_ready to true.\u001b[39;00m\n\u001b[1;32m---> 51\u001b[0m     \u001b[39mself\u001b[39;49m\u001b[39m.\u001b[39;49m_conn\u001b[39m.\u001b[39;49mserve(\u001b[39mself\u001b[39;49m\u001b[39m.\u001b[39;49m_ttl)\n\u001b[0;32m     53\u001b[0m \u001b[39m# Check if we timed out before result was ready\u001b[39;00m\n\u001b[0;32m     54\u001b[0m \u001b[39mif\u001b[39;00m \u001b[39mnot\u001b[39;00m \u001b[39mself\u001b[39m\u001b[39m.\u001b[39m_is_ready:\n",
      "File \u001b[1;32m~\\Anaconda2\\envs\\scudi\\lib\\site-packages\\rpyc\\core\\protocol.py:445\u001b[0m, in \u001b[0;36mConnection.serve\u001b[1;34m(self, timeout, wait_for_lock)\u001b[0m\n\u001b[0;32m    442\u001b[0m \u001b[39m# At this point, the recvlock was acquired once, we must release once before exiting the function\u001b[39;00m\n\u001b[0;32m    443\u001b[0m \u001b[39mif\u001b[39;00m data:\n\u001b[0;32m    444\u001b[0m     \u001b[39m# Dispatch will unbox, invoke callbacks, etc.\u001b[39;00m\n\u001b[1;32m--> 445\u001b[0m     \u001b[39mself\u001b[39;49m\u001b[39m.\u001b[39;49m_dispatch(data)\n\u001b[0;32m    446\u001b[0m     \u001b[39mself\u001b[39m\u001b[39m.\u001b[39m_recvlock\u001b[39m.\u001b[39mrelease()\n\u001b[0;32m    447\u001b[0m     \u001b[39mwith\u001b[39;00m \u001b[39mself\u001b[39m\u001b[39m.\u001b[39m_recv_event:\n",
      "File \u001b[1;32m~\\Anaconda2\\envs\\scudi\\lib\\site-packages\\rpyc\\core\\protocol.py:396\u001b[0m, in \u001b[0;36mConnection._dispatch\u001b[1;34m(self, data)\u001b[0m\n\u001b[0;32m    394\u001b[0m     \u001b[39mif\u001b[39;00m \u001b[39mself\u001b[39m\u001b[39m.\u001b[39m_bind_threads:\n\u001b[0;32m    395\u001b[0m         \u001b[39mself\u001b[39m\u001b[39m.\u001b[39m_get_thread()\u001b[39m.\u001b[39m_occupation_count \u001b[39m+\u001b[39m\u001b[39m=\u001b[39m \u001b[39m1\u001b[39m\n\u001b[1;32m--> 396\u001b[0m     \u001b[39mself\u001b[39;49m\u001b[39m.\u001b[39;49m_dispatch_request(seq, args)\n\u001b[0;32m    397\u001b[0m \u001b[39melse\u001b[39;00m:\n\u001b[0;32m    398\u001b[0m     \u001b[39mif\u001b[39;00m \u001b[39mself\u001b[39m\u001b[39m.\u001b[39m_bind_threads:\n",
      "File \u001b[1;32m~\\Anaconda2\\envs\\scudi\\lib\\site-packages\\rpyc\\core\\protocol.py:370\u001b[0m, in \u001b[0;36mConnection._dispatch_request\u001b[1;34m(self, seq, raw_args)\u001b[0m\n\u001b[0;32m    368\u001b[0m     \u001b[39mself\u001b[39m\u001b[39m.\u001b[39m_send(consts\u001b[39m.\u001b[39mMSG_EXCEPTION, seq, \u001b[39mself\u001b[39m\u001b[39m.\u001b[39m_box_exc(t, v, tb))\n\u001b[0;32m    369\u001b[0m \u001b[39melse\u001b[39;00m:\n\u001b[1;32m--> 370\u001b[0m     \u001b[39mself\u001b[39m\u001b[39m.\u001b[39m_send(consts\u001b[39m.\u001b[39mMSG_REPLY, seq, \u001b[39mself\u001b[39;49m\u001b[39m.\u001b[39;49m_box(res))\n",
      "File \u001b[1;32m~\\Anaconda2\\envs\\scudi\\lib\\site-packages\\rpyc\\core\\protocol.py:309\u001b[0m, in \u001b[0;36mConnection._box\u001b[1;34m(self, obj)\u001b[0m\n\u001b[0;32m    307\u001b[0m     \u001b[39mreturn\u001b[39;00m consts\u001b[39m.\u001b[39mLABEL_LOCAL_REF, obj\u001b[39m.\u001b[39m____id_pack__\n\u001b[0;32m    308\u001b[0m \u001b[39melse\u001b[39;00m:\n\u001b[1;32m--> 309\u001b[0m     id_pack \u001b[39m=\u001b[39m get_id_pack(obj)\n\u001b[0;32m    310\u001b[0m     \u001b[39mself\u001b[39m\u001b[39m.\u001b[39m_local_objects\u001b[39m.\u001b[39madd(id_pack, obj)\n\u001b[0;32m    311\u001b[0m     \u001b[39mreturn\u001b[39;00m consts\u001b[39m.\u001b[39mLABEL_REMOTE_REF, id_pack\n",
      "File \u001b[1;32m~\\Anaconda2\\envs\\scudi\\lib\\site-packages\\rpyc\\lib\\__init__.py:206\u001b[0m, in \u001b[0;36mget_id_pack\u001b[1;34m(obj)\u001b[0m\n\u001b[0;32m    204\u001b[0m         \u001b[39mreturn\u001b[39;00m (name_pack, \u001b[39mid\u001b[39m(\u001b[39mtype\u001b[39m(obj)), \u001b[39mid\u001b[39m(obj))\n\u001b[0;32m    205\u001b[0m \u001b[39melif\u001b[39;00m \u001b[39mnot\u001b[39;00m inspect\u001b[39m.\u001b[39misclass(obj):\n\u001b[1;32m--> 206\u001b[0m     name_pack \u001b[39m=\u001b[39m \u001b[39m'\u001b[39m\u001b[39m{0}\u001b[39;00m\u001b[39m.\u001b[39m\u001b[39m{1}\u001b[39;00m\u001b[39m'\u001b[39m\u001b[39m.\u001b[39mformat(obj\u001b[39m.\u001b[39;49m\u001b[39m__class__\u001b[39;49m\u001b[39m.\u001b[39;49m\u001b[39m__module__\u001b[39;49m, obj\u001b[39m.\u001b[39m\u001b[39m__class__\u001b[39m\u001b[39m.\u001b[39m\u001b[39m__name__\u001b[39m)\n\u001b[0;32m    207\u001b[0m     \u001b[39mreturn\u001b[39;00m (name_pack, \u001b[39mid\u001b[39m(\u001b[39mtype\u001b[39m(obj)), \u001b[39mid\u001b[39m(obj))\n\u001b[0;32m    208\u001b[0m \u001b[39melse\u001b[39;00m:\n",
      "\u001b[1;31mAttributeError\u001b[0m: __module__"
     ]
    }
   ],
   "source": [
    "fpga_pulser_ok.fpga.GetPLL22150Configuration(PLL)"
   ]
  },
  {
   "cell_type": "code",
   "execution_count": 40,
   "metadata": {},
   "outputs": [
    {
     "data": {
      "text/plain": [
       "'Pulser'"
      ]
     },
     "execution_count": 40,
     "metadata": {},
     "output_type": "execute_result"
    }
   ],
   "source": [
    "PLL = ok.PLL22150()\n",
    "fpga_pulser_ok.fpga.GetDeviceID()"
   ]
  },
  {
   "cell_type": "code",
   "execution_count": 43,
   "metadata": {},
   "outputs": [
    {
     "data": {
      "text/plain": [
       "True"
      ]
     },
     "execution_count": 43,
     "metadata": {},
     "output_type": "execute_result"
    }
   ],
   "source": [
    "fpga_pulser_ok.fpga.IsOpen()"
   ]
  },
  {
   "cell_type": "code",
   "execution_count": 45,
   "metadata": {},
   "outputs": [
    {
     "ename": "TypeError",
     "evalue": "ReadRegisters() missing 1 required positional argument: 'regs'\n\n========= Remote Traceback (1) =========\nTraceback (most recent call last):\n  File \"C:\\Users\\yy3\\Anaconda2\\envs\\scudi\\lib\\site-packages\\rpyc\\core\\protocol.py\", line 356, in _dispatch_request\n    res = self._HANDLERS[handler](self, *args)\n  File \"C:\\Users\\yy3\\Anaconda2\\envs\\scudi\\lib\\site-packages\\rpyc\\core\\protocol.py\", line 837, in _handle_call\n    return obj(*args, **dict(kwargs))\nTypeError: ReadRegisters() missing 1 required positional argument: 'regs'\n",
     "output_type": "error",
     "traceback": [
      "\u001b[1;31m---------------------------------------------------------------------------\u001b[0m",
      "\u001b[1;31mTypeError\u001b[0m                                 Traceback (most recent call last)",
      "Cell \u001b[1;32mIn[45], line 1\u001b[0m\n\u001b[1;32m----> 1\u001b[0m fpga_pulser_ok\u001b[39m.\u001b[39;49mfpga\u001b[39m.\u001b[39;49mReadRegisters()\n",
      "File \u001b[1;32m~\\Anaconda2\\envs\\scudi\\lib\\site-packages\\rpyc\\core\\netref.py:240\u001b[0m, in \u001b[0;36m_make_method.<locals>.__call__\u001b[1;34m(_self, *args, **kwargs)\u001b[0m\n\u001b[0;32m    238\u001b[0m \u001b[39mdef\u001b[39;00m \u001b[39m__call__\u001b[39m(_self, \u001b[39m*\u001b[39margs, \u001b[39m*\u001b[39m\u001b[39m*\u001b[39mkwargs):\n\u001b[0;32m    239\u001b[0m     kwargs \u001b[39m=\u001b[39m \u001b[39mtuple\u001b[39m(kwargs\u001b[39m.\u001b[39mitems())\n\u001b[1;32m--> 240\u001b[0m     \u001b[39mreturn\u001b[39;00m syncreq(_self, consts\u001b[39m.\u001b[39;49mHANDLE_CALL, args, kwargs)\n",
      "File \u001b[1;32m~\\Anaconda2\\envs\\scudi\\lib\\site-packages\\rpyc\\core\\netref.py:63\u001b[0m, in \u001b[0;36msyncreq\u001b[1;34m(proxy, handler, *args)\u001b[0m\n\u001b[0;32m     51\u001b[0m \u001b[39m\u001b[39m\u001b[39m\"\"\"Performs a synchronous request on the given proxy object.\u001b[39;00m\n\u001b[0;32m     52\u001b[0m \u001b[39mNot intended to be invoked directly.\u001b[39;00m\n\u001b[0;32m     53\u001b[0m \n\u001b[1;32m   (...)\u001b[0m\n\u001b[0;32m     60\u001b[0m \u001b[39m:returns: the result of the operation\u001b[39;00m\n\u001b[0;32m     61\u001b[0m \u001b[39m\"\"\"\u001b[39;00m\n\u001b[0;32m     62\u001b[0m conn \u001b[39m=\u001b[39m \u001b[39mobject\u001b[39m\u001b[39m.\u001b[39m\u001b[39m__getattribute__\u001b[39m(proxy, \u001b[39m\"\u001b[39m\u001b[39m____conn__\u001b[39m\u001b[39m\"\u001b[39m)\n\u001b[1;32m---> 63\u001b[0m \u001b[39mreturn\u001b[39;00m conn\u001b[39m.\u001b[39;49msync_request(handler, proxy, \u001b[39m*\u001b[39;49margs)\n",
      "File \u001b[1;32m~\\Anaconda2\\envs\\scudi\\lib\\site-packages\\rpyc\\core\\protocol.py:718\u001b[0m, in \u001b[0;36mConnection.sync_request\u001b[1;34m(self, handler, *args)\u001b[0m\n\u001b[0;32m    715\u001b[0m _async_res \u001b[39m=\u001b[39m \u001b[39mself\u001b[39m\u001b[39m.\u001b[39masync_request(handler, \u001b[39m*\u001b[39margs, timeout\u001b[39m=\u001b[39mtimeout)\n\u001b[0;32m    716\u001b[0m \u001b[39m# _async_res is an instance of AsyncResult, the value property invokes Connection.serve via AsyncResult.wait\u001b[39;00m\n\u001b[0;32m    717\u001b[0m \u001b[39m# So, the _recvlock can be acquired multiple times by the owning thread and warrants the use of RLock\u001b[39;00m\n\u001b[1;32m--> 718\u001b[0m \u001b[39mreturn\u001b[39;00m _async_res\u001b[39m.\u001b[39;49mvalue\n",
      "File \u001b[1;32m~\\Anaconda2\\envs\\scudi\\lib\\site-packages\\rpyc\\core\\async_.py:108\u001b[0m, in \u001b[0;36mAsyncResult.value\u001b[1;34m(self)\u001b[0m\n\u001b[0;32m    106\u001b[0m \u001b[39mself\u001b[39m\u001b[39m.\u001b[39mwait()\n\u001b[0;32m    107\u001b[0m \u001b[39mif\u001b[39;00m \u001b[39mself\u001b[39m\u001b[39m.\u001b[39m_is_exc:\n\u001b[1;32m--> 108\u001b[0m     \u001b[39mraise\u001b[39;00m \u001b[39mself\u001b[39m\u001b[39m.\u001b[39m_obj\n\u001b[0;32m    109\u001b[0m \u001b[39melse\u001b[39;00m:\n\u001b[0;32m    110\u001b[0m     \u001b[39mreturn\u001b[39;00m \u001b[39mself\u001b[39m\u001b[39m.\u001b[39m_obj\n",
      "\u001b[1;31mTypeError\u001b[0m: ReadRegisters() missing 1 required positional argument: 'regs'\n\n========= Remote Traceback (1) =========\nTraceback (most recent call last):\n  File \"C:\\Users\\yy3\\Anaconda2\\envs\\scudi\\lib\\site-packages\\rpyc\\core\\protocol.py\", line 356, in _dispatch_request\n    res = self._HANDLERS[handler](self, *args)\n  File \"C:\\Users\\yy3\\Anaconda2\\envs\\scudi\\lib\\site-packages\\rpyc\\core\\protocol.py\", line 837, in _handle_call\n    return obj(*args, **dict(kwargs))\nTypeError: ReadRegisters() missing 1 required positional argument: 'regs'\n"
     ]
    }
   ],
   "source": [
    "fpga_pulser_ok.fpga.ReadRegisters()"
   ]
  },
  {
   "cell_type": "code",
   "execution_count": 1,
   "metadata": {},
   "outputs": [
    {
     "data": {
      "text/plain": [
       "bytearray(b'\\x01\\x01\\x01\\x01\\x01\\x01\\x01\\x01\\x01\\x01\\x01\\x01\\x01\\x01\\x01\\x01\\x01\\x01\\x01\\x01\\x01\\x01\\x01\\x01\\x01\\x01\\x01\\x01\\x01\\x01\\x01\\x01')"
      ]
     },
     "execution_count": 1,
     "metadata": {},
     "output_type": "execute_result"
    }
   ],
   "source": [
    "fpga_pulser_ok._current_waveform"
   ]
  },
  {
   "cell_type": "code",
   "execution_count": 10,
   "metadata": {},
   "outputs": [
    {
     "data": {
      "text/plain": [
       "0"
      ]
     },
     "execution_count": 10,
     "metadata": {},
     "output_type": "execute_result"
    }
   ],
   "source": []
  },
  {
   "cell_type": "code",
   "execution_count": 9,
   "metadata": {},
   "outputs": [
    {
     "data": {
      "text/plain": [
       "32"
      ]
     },
     "execution_count": 9,
     "metadata": {},
     "output_type": "execute_result"
    }
   ],
   "source": [
    "fpga_pulser_ok.fpga.WriteToBlockPipeIn(0x80, 32, fpga_pulser_ok._current_waveform)"
   ]
  },
  {
   "cell_type": "code",
   "execution_count": 15,
   "metadata": {},
   "outputs": [
    {
     "data": {
      "text/plain": [
       "0"
      ]
     },
     "execution_count": 15,
     "metadata": {},
     "output_type": "execute_result"
    }
   ],
   "source": [
    "fpga_pulser_ok.write((8 << 24) + 2)"
   ]
  },
  {
   "cell_type": "code",
   "execution_count": 16,
   "metadata": {},
   "outputs": [
    {
     "data": {
      "text/plain": [
       "32"
      ]
     },
     "execution_count": 16,
     "metadata": {},
     "output_type": "execute_result"
    }
   ],
   "source": [
    "fpga_pulser_ok.fpga.WriteToBlockPipeIn(0x80, 32, fpga_pulser_ok._current_waveform)"
   ]
  },
  {
   "cell_type": "code",
   "execution_count": 17,
   "metadata": {},
   "outputs": [
    {
     "data": {
      "text/plain": [
       "0"
      ]
     },
     "execution_count": 17,
     "metadata": {},
     "output_type": "execute_result"
    }
   ],
   "source": [
    "fpga_pulser_ok.write(0x00)"
   ]
  },
  {
   "cell_type": "code",
   "execution_count": 18,
   "metadata": {},
   "outputs": [],
   "source": [
    "fpga_pulser_ok.query()"
   ]
  },
  {
   "cell_type": "code",
   "execution_count": 21,
   "metadata": {},
   "outputs": [
    {
     "data": {
      "text/plain": [
       "0"
      ]
     },
     "execution_count": 21,
     "metadata": {},
     "output_type": "execute_result"
    }
   ],
   "source": [
    "fpga_pulser_ok.pulser_on()"
   ]
  },
  {
   "cell_type": "code",
   "execution_count": null,
   "metadata": {},
   "outputs": [],
   "source": []
  },
  {
   "cell_type": "code",
   "execution_count": 28,
   "metadata": {},
   "outputs": [
    {
     "data": {
      "text/plain": [
       "(24, 4)"
      ]
     },
     "execution_count": 28,
     "metadata": {},
     "output_type": "execute_result"
    }
   ],
   "source": [
    "ret & 0xFF, ret >> 8"
   ]
  },
  {
   "cell_type": "code",
   "execution_count": null,
   "metadata": {},
   "outputs": [],
   "source": [
    "setResetValue"
   ]
  },
  {
   "cell_type": "code",
   "execution_count": 5,
   "metadata": {},
   "outputs": [],
   "source": [
    "channels = [\"ch0\"]"
   ]
  },
  {
   "cell_type": "code",
   "execution_count": 24,
   "metadata": {},
   "outputs": [
    {
     "data": {
      "text/plain": [
       "dict_values([0, 1, 2, 3, 4, 5, 6, 7, 8, 9, 10, 11, 12, 13, 14, 15, 16, 17, 18, 19, 20, 21, 22, 23])"
      ]
     },
     "execution_count": 24,
     "metadata": {},
     "output_type": "execute_result"
    }
   ],
   "source": [
    "channel_map.values()"
   ]
  },
  {
   "cell_type": "code",
   "execution_count": 30,
   "metadata": {},
   "outputs": [],
   "source": [
    "import numpy as np"
   ]
  },
  {
   "cell_type": "code",
   "execution_count": 32,
   "metadata": {},
   "outputs": [],
   "source": [
    "def createBitsFromChannels(channels):\n",
    "    \"\"\"\n",
    "    Convert a list of channel names into an array of bools of length N_CHANNELS,\n",
    "    that specify the state (high or low) of each available channel.\n",
    "    \"\"\"\n",
    "    bits = np.zeros(24, dtype=bool)\n",
    "    for channel in channels:\n",
    "        bits[channel_map[channel]] = True\n",
    "    return bits"
   ]
  },
  {
   "cell_type": "code",
   "execution_count": 54,
   "metadata": {},
   "outputs": [
    {
     "data": {
      "text/plain": [
       "array(['1', '0', '0', '0', '0', '0', '0', '0', '0', '0', '0', '0', '0',\n",
       "       '0', '0', '0', '0', '0', '0', '0', '0', '0', '0', '0'],\n",
       "      dtype='<U11')"
      ]
     },
     "execution_count": 54,
     "metadata": {},
     "output_type": "execute_result"
    }
   ],
   "source": [
    "createBitsFromChannels([\"ch0\"]).astype(int).astype(str)"
   ]
  },
  {
   "cell_type": "code",
   "execution_count": 60,
   "metadata": {},
   "outputs": [],
   "source": [
    "bits = 13\n",
    "for channel in channels:\n",
    "    bits = bits | (1 << channel_map[channel])"
   ]
  },
  {
   "cell_type": "code",
   "execution_count": 61,
   "metadata": {},
   "outputs": [
    {
     "data": {
      "text/plain": [
       "13"
      ]
     },
     "execution_count": 61,
     "metadata": {},
     "output_type": "execute_result"
    }
   ],
   "source": [
    "bits"
   ]
  },
  {
   "cell_type": "code",
   "execution_count": 71,
   "metadata": {},
   "outputs": [],
   "source": [
    "setResetValue(1)"
   ]
  },
  {
   "cell_type": "code",
   "execution_count": 73,
   "metadata": {},
   "outputs": [
    {
     "data": {
      "text/plain": [
       "({1: '', 2: '', 3: '', 4: '', 5: '', 6: '', 7: '', 8: ''}, None)"
      ]
     },
     "execution_count": 73,
     "metadata": {},
     "output_type": "execute_result"
    }
   ],
   "source": [
    "fpga_pulser_ok.get_loaded_assets()"
   ]
  },
  {
   "cell_type": "code",
   "execution_count": 16,
   "metadata": {},
   "outputs": [
    {
     "data": {
      "text/plain": [
       "0"
      ]
     },
     "execution_count": 16,
     "metadata": {},
     "output_type": "execute_result"
    }
   ],
   "source": [
    "fpga_pulser_ok.pulser_on()"
   ]
  },
  {
   "cell_type": "code",
   "execution_count": 15,
   "metadata": {},
   "outputs": [],
   "source": [
    "setResetValue(0x111111111111)"
   ]
  },
  {
   "cell_type": "code",
   "execution_count": null,
   "metadata": {},
   "outputs": [],
   "source": []
  },
  {
   "cell_type": "code",
   "execution_count": 1,
   "metadata": {},
   "outputs": [],
   "source": [
    "def setResetValue(bits):\n",
    "    # fpga_pulser_ok.fpga.SetWireInValue(0x01, bits, 0xFFFF)\n",
    "    fpga_pulser_ok.fpga.SetWireInValue(0x02, bits >> 16, 0xFFFF)\n",
    "    fpga_pulser_ok.fpga.UpdateWireIns()"
   ]
  },
  {
   "cell_type": "code",
   "execution_count": 4,
   "metadata": {},
   "outputs": [],
   "source": [
    "channel_map={\n",
    "            \"ch0\": 0,\n",
    "            \"ch1\": 1,\n",
    "            \"ch2\": 2,\n",
    "            \"ch3\": 3,\n",
    "            \"ch4\": 4,\n",
    "            \"ch5\": 5,\n",
    "            \"ch6\": 6,\n",
    "            \"ch7\": 7,\n",
    "            \"ch8\": 8,\n",
    "            \"ch9\": 9,\n",
    "            \"ch10\": 10,\n",
    "            \"ch11\": 11,\n",
    "            \"ch12\": 12,\n",
    "            \"ch13\": 13,\n",
    "            \"ch14\": 14,\n",
    "            \"ch15\": 15,\n",
    "            \"ch16\": 16,\n",
    "            \"ch17\": 17,\n",
    "            \"ch18\": 18,\n",
    "            \"ch19\": 19,\n",
    "            \"ch20\": 20,\n",
    "            \"ch21\": 21,\n",
    "            \"ch22\": 22,\n",
    "            \"ch23\": 23,\n",
    "        }"
   ]
  },
  {
   "cell_type": "code",
   "execution_count": 1,
   "metadata": {},
   "outputs": [],
   "source": [
    "from qudi.hardware.fpga_pulser import pulse_generator_pi3"
   ]
  },
  {
   "cell_type": "code",
   "execution_count": 2,
   "metadata": {},
   "outputs": [],
   "source": [
    "pulser = pulse_generator_pi3.PulseGenerator(serial='11360001Q9',\n",
    "                                             channel_map={ 'laser':0,       # open aom -> laser on\n",
    "                                                           'detect':1,      # start counting (apd)\n",
    "                                                           'sequence':2,    # start/stop count seq.\n",
    "                                                           'microwave':3,   # open switch -> mw on\n",
    "                                                           'mw':3,          # open switch -> mw on\n",
    "                                                           'microwave_2':4,         # open switch -> mw on\n",
    "                                                           'mw2':4,         # open switch -> mw on\n",
    "                                                           'rf':4,          # old: 'tr':5,  check awg-pg syncr.\n",
    "                                                           'awg':5,         # old: 'awg':4, trigger for the awg\n",
    "                                                           'clock':6,       # create \"clock\" for awg\n",
    "                                                         })"
   ]
  },
  {
   "cell_type": "code",
   "execution_count": 16,
   "metadata": {},
   "outputs": [],
   "source": [
    "pulser.setContinuous([\"laser\", \"microwave\"])"
   ]
  },
  {
   "cell_type": "code",
   "execution_count": 7,
   "metadata": {},
   "outputs": [],
   "source": [
    "# pulser.setContinuous([\"microwave\"])"
   ]
  },
  {
   "cell_type": "code",
   "execution_count": 1,
   "metadata": {},
   "outputs": [
    {
     "ename": "NameError",
     "evalue": "name 'pulser' is not defined",
     "output_type": "error",
     "traceback": [
      "\u001b[1;31m---------------------------------------------------------------------------\u001b[0m",
      "\u001b[1;31mNameError\u001b[0m                                 Traceback (most recent call last)",
      "Cell \u001b[1;32mIn[1], line 1\u001b[0m\n\u001b[1;32m----> 1\u001b[0m pulser\u001b[39m.\u001b[39msetContinuous([\u001b[39m\"\u001b[39m\u001b[39mlaser\u001b[39m\u001b[39m\"\u001b[39m, \u001b[39m\"\u001b[39m\u001b[39mmicrowave\u001b[39m\u001b[39m\"\u001b[39m])\n",
      "\u001b[1;31mNameError\u001b[0m: name 'pulser' is not defined"
     ]
    }
   ],
   "source": [
    "pulser.setContinuous([\"laser\", \"microwave\"])"
   ]
  },
  {
   "cell_type": "code",
   "execution_count": 3,
   "metadata": {},
   "outputs": [
    {
     "ename": "AttributeError",
     "evalue": "'OkFpgaPulser' object has no attribute '_seq'\n\n========= Remote Traceback (1) =========\nTraceback (most recent call last):\n  File \"C:\\Users\\yy3\\Anaconda2\\envs\\scudi\\lib\\site-packages\\rpyc\\core\\protocol.py\", line 356, in _dispatch_request\n    res = self._HANDLERS[handler](self, *args)\n  File \"C:\\Users\\yy3\\Anaconda2\\envs\\scudi\\lib\\site-packages\\rpyc\\core\\protocol.py\", line 853, in _handle_getattr\n    return self._access_attr(obj, name, (), \"_rpyc_getattr\", \"allow_getattr\", getattr)\n  File \"C:\\Users\\yy3\\Anaconda2\\envs\\scudi\\lib\\site-packages\\rpyc\\core\\protocol.py\", line 781, in _access_attr\n    return accessor(obj, name, *args)\n  File \"C:\\qudi\\qudi-core\\src\\qudi\\core\\services.py\", line 239, in __getattribute__\n    attr = getattr(obj, name)\nAttributeError: 'OkFpgaPulser' object has no attribute '_seq'\n",
     "output_type": "error",
     "traceback": [
      "\u001b[1;31m---------------------------------------------------------------------------\u001b[0m",
      "\u001b[1;31mAttributeError\u001b[0m                            Traceback (most recent call last)",
      "Cell \u001b[1;32mIn[3], line 1\u001b[0m\n\u001b[1;32m----> 1\u001b[0m fpga_pulser_ok\u001b[39m.\u001b[39;49m_seq\n",
      "File \u001b[1;32m~\\Anaconda2\\envs\\scudi\\lib\\site-packages\\rpyc\\core\\netref.py:153\u001b[0m, in \u001b[0;36mBaseNetref.__getattr__\u001b[1;34m(self, name)\u001b[0m\n\u001b[0;32m    151\u001b[0m \u001b[39mif\u001b[39;00m name \u001b[39min\u001b[39;00m DELETED_ATTRS:\n\u001b[0;32m    152\u001b[0m     \u001b[39mraise\u001b[39;00m \u001b[39mAttributeError\u001b[39;00m()\n\u001b[1;32m--> 153\u001b[0m \u001b[39mreturn\u001b[39;00m syncreq(\u001b[39mself\u001b[39;49m, consts\u001b[39m.\u001b[39;49mHANDLE_GETATTR, name)\n",
      "File \u001b[1;32m~\\Anaconda2\\envs\\scudi\\lib\\site-packages\\rpyc\\core\\netref.py:63\u001b[0m, in \u001b[0;36msyncreq\u001b[1;34m(proxy, handler, *args)\u001b[0m\n\u001b[0;32m     51\u001b[0m \u001b[39m\u001b[39m\u001b[39m\"\"\"Performs a synchronous request on the given proxy object.\u001b[39;00m\n\u001b[0;32m     52\u001b[0m \u001b[39mNot intended to be invoked directly.\u001b[39;00m\n\u001b[0;32m     53\u001b[0m \n\u001b[1;32m   (...)\u001b[0m\n\u001b[0;32m     60\u001b[0m \u001b[39m:returns: the result of the operation\u001b[39;00m\n\u001b[0;32m     61\u001b[0m \u001b[39m\"\"\"\u001b[39;00m\n\u001b[0;32m     62\u001b[0m conn \u001b[39m=\u001b[39m \u001b[39mobject\u001b[39m\u001b[39m.\u001b[39m\u001b[39m__getattribute__\u001b[39m(proxy, \u001b[39m\"\u001b[39m\u001b[39m____conn__\u001b[39m\u001b[39m\"\u001b[39m)\n\u001b[1;32m---> 63\u001b[0m \u001b[39mreturn\u001b[39;00m conn\u001b[39m.\u001b[39;49msync_request(handler, proxy, \u001b[39m*\u001b[39;49margs)\n",
      "File \u001b[1;32m~\\Anaconda2\\envs\\scudi\\lib\\site-packages\\rpyc\\core\\protocol.py:718\u001b[0m, in \u001b[0;36mConnection.sync_request\u001b[1;34m(self, handler, *args)\u001b[0m\n\u001b[0;32m    715\u001b[0m _async_res \u001b[39m=\u001b[39m \u001b[39mself\u001b[39m\u001b[39m.\u001b[39masync_request(handler, \u001b[39m*\u001b[39margs, timeout\u001b[39m=\u001b[39mtimeout)\n\u001b[0;32m    716\u001b[0m \u001b[39m# _async_res is an instance of AsyncResult, the value property invokes Connection.serve via AsyncResult.wait\u001b[39;00m\n\u001b[0;32m    717\u001b[0m \u001b[39m# So, the _recvlock can be acquired multiple times by the owning thread and warrants the use of RLock\u001b[39;00m\n\u001b[1;32m--> 718\u001b[0m \u001b[39mreturn\u001b[39;00m _async_res\u001b[39m.\u001b[39;49mvalue\n",
      "File \u001b[1;32m~\\Anaconda2\\envs\\scudi\\lib\\site-packages\\rpyc\\core\\async_.py:108\u001b[0m, in \u001b[0;36mAsyncResult.value\u001b[1;34m(self)\u001b[0m\n\u001b[0;32m    106\u001b[0m \u001b[39mself\u001b[39m\u001b[39m.\u001b[39mwait()\n\u001b[0;32m    107\u001b[0m \u001b[39mif\u001b[39;00m \u001b[39mself\u001b[39m\u001b[39m.\u001b[39m_is_exc:\n\u001b[1;32m--> 108\u001b[0m     \u001b[39mraise\u001b[39;00m \u001b[39mself\u001b[39m\u001b[39m.\u001b[39m_obj\n\u001b[0;32m    109\u001b[0m \u001b[39melse\u001b[39;00m:\n\u001b[0;32m    110\u001b[0m     \u001b[39mreturn\u001b[39;00m \u001b[39mself\u001b[39m\u001b[39m.\u001b[39m_obj\n",
      "\u001b[1;31mAttributeError\u001b[0m: 'OkFpgaPulser' object has no attribute '_seq'\n\n========= Remote Traceback (1) =========\nTraceback (most recent call last):\n  File \"C:\\Users\\yy3\\Anaconda2\\envs\\scudi\\lib\\site-packages\\rpyc\\core\\protocol.py\", line 356, in _dispatch_request\n    res = self._HANDLERS[handler](self, *args)\n  File \"C:\\Users\\yy3\\Anaconda2\\envs\\scudi\\lib\\site-packages\\rpyc\\core\\protocol.py\", line 853, in _handle_getattr\n    return self._access_attr(obj, name, (), \"_rpyc_getattr\", \"allow_getattr\", getattr)\n  File \"C:\\Users\\yy3\\Anaconda2\\envs\\scudi\\lib\\site-packages\\rpyc\\core\\protocol.py\", line 781, in _access_attr\n    return accessor(obj, name, *args)\n  File \"C:\\qudi\\qudi-core\\src\\qudi\\core\\services.py\", line 239, in __getattribute__\n    attr = getattr(obj, name)\nAttributeError: 'OkFpgaPulser' object has no attribute '_seq'\n"
     ]
    }
   ],
   "source": [
    "fpga_pulser_ok._seq"
   ]
  },
  {
   "cell_type": "code",
   "execution_count": 9,
   "metadata": {},
   "outputs": [
    {
     "data": {
      "text/plain": [
       "{3, 12, 4}"
      ]
     },
     "execution_count": 9,
     "metadata": {},
     "output_type": "execute_result"
    }
   ],
   "source": [
    "set([12,3,4])"
   ]
  },
  {
   "cell_type": "code",
   "execution_count": 2,
   "metadata": {},
   "outputs": [],
   "source": [
    "seq = generate_sequence()"
   ]
  },
  {
   "cell_type": "code",
   "execution_count": 3,
   "metadata": {},
   "outputs": [
    {
     "data": {
      "text/plain": [
       "[(['d_ch1', 'd_ch2'], 10), ([], 100), (['d_ch1'], 10), ([], 10), (['d_ch1'], 100), (['d_ch1', 'd_ch2'], 20), ([], 100), (['d_ch1'], 10), ([], 10), (['d_ch1'], 100), (['d_ch1', 'd_ch2'], 30), ([], 100), (['d_ch1'], 10), ([], 10), (['d_ch1'], 100)]"
      ]
     },
     "execution_count": 3,
     "metadata": {},
     "output_type": "execute_result"
    }
   ],
   "source": [
    "seq"
   ]
  },
  {
   "cell_type": "code",
   "execution_count": 66,
   "metadata": {},
   "outputs": [
    {
     "ename": "NameError",
     "evalue": "name 'fpga_pulser_ok' is not defined",
     "output_type": "error",
     "traceback": [
      "\u001b[1;31m---------------------------------------------------------------------------\u001b[0m",
      "\u001b[1;31mNameError\u001b[0m                                 Traceback (most recent call last)",
      "Cell \u001b[1;32mIn[66], line 1\u001b[0m\n\u001b[1;32m----> 1\u001b[0m fpga_pulser_ok\u001b[39m.\u001b[39msetSequence([([\u001b[39m'\u001b[39m\u001b[39md_ch1\u001b[39m\u001b[39m'\u001b[39m, \u001b[39m'\u001b[39m\u001b[39md_ch2\u001b[39m\u001b[39m'\u001b[39m], \u001b[39m10\u001b[39m)])\n",
      "\u001b[1;31mNameError\u001b[0m: name 'fpga_pulser_ok' is not defined"
     ]
    }
   ],
   "source": [
    "fpga_pulser_ok.setSequence([(['d_ch1', 'd_ch2'], 10)])"
   ]
  },
  {
   "cell_type": "code",
   "execution_count": 4,
   "metadata": {},
   "outputs": [],
   "source": [
    "import struct"
   ]
  },
  {
   "cell_type": "code",
   "execution_count": 23,
   "metadata": {},
   "outputs": [
    {
     "name": "stdout",
     "output_type": "stream",
     "text": [
      "1 [255, 0, 0, 0, 0, 0, 0, 0, 0, 0, 0, 0, 0, 0, 0, 0, 0, 0, 0, 0, 0, 0, 0, 0, 0, 0, 0, 0, 0, 0, 0, 0, 0, 0]\n"
     ]
    }
   ],
   "source": [
    "mult = 1\n",
    "pattern = [255, 0, 0, 0,0,0,0,0,0,0,0,0,0,0,0,0,0,0,0,0,0,0,0,0,0,0,0,0,0,0,0,0,0,0]\n",
    "# ToDo: check whether max repetitions is exceeded, split into several commands if necessary\n",
    "# print mult, pattern\n",
    "print(mult, pattern)\n",
    "\n",
    "pattern = [pattern[i] | pattern[i+1]<<4 for i in range(0,len(pattern),2)]\n",
    "\n",
    "s = struct.pack('>I%iB'%len(pattern), 1, *pattern[::-1])\n",
    "#s = s[4:]+s[2:4]+s[:2]\n",
    "swap = b''\n",
    "for i in range(len(s)):\n",
    "   \n",
    "    swap +=s[i - 1 : i if i%2 else i+1]"
   ]
  },
  {
   "cell_type": "code",
   "execution_count": 24,
   "metadata": {},
   "outputs": [
    {
     "data": {
      "text/plain": [
       "30"
      ]
     },
     "execution_count": 24,
     "metadata": {},
     "output_type": "execute_result"
    }
   ],
   "source": [
    "len(bytearray(swap))"
   ]
  },
  {
   "cell_type": "code",
   "execution_count": 26,
   "metadata": {},
   "outputs": [
    {
     "data": {
      "text/plain": [
       "32"
      ]
     },
     "execution_count": 26,
     "metadata": {},
     "output_type": "execute_result"
    }
   ],
   "source": [
    "len(fpga_pulser_ok.wave_form)"
   ]
  },
  {
   "cell_type": "code",
   "execution_count": 28,
   "metadata": {},
   "outputs": [
    {
     "ename": "TypeError",
     "evalue": "in method 'okCFrontPanel_WriteToBlockPipeIn', argument 4 of type '(char *data, int length)'\n\n========= Remote Traceback (1) =========\nTraceback (most recent call last):\n  File \"C:\\Users\\yy3\\Anaconda2\\envs\\scudi\\lib\\site-packages\\rpyc\\core\\protocol.py\", line 356, in _dispatch_request\n    res = self._HANDLERS[handler](self, *args)\n  File \"C:\\Users\\yy3\\Anaconda2\\envs\\scudi\\lib\\site-packages\\rpyc\\core\\protocol.py\", line 837, in _handle_call\n    return obj(*args, **dict(kwargs))\n  File \"C:\\qudi\\scudi\\src\\qudi\\hardware\\fpga_pulser\\ok.py\", line 1310, in WriteToBlockPipeIn\n    return _ok.okCFrontPanel_WriteToBlockPipeIn(self, epAddr, blockSize, data)\nTypeError: in method 'okCFrontPanel_WriteToBlockPipeIn', argument 4 of type '(char *data, int length)'\n",
     "output_type": "error",
     "traceback": [
      "\u001b[1;31m---------------------------------------------------------------------------\u001b[0m",
      "\u001b[1;31mTypeError\u001b[0m                                 Traceback (most recent call last)",
      "Cell \u001b[1;32mIn[28], line 1\u001b[0m\n\u001b[1;32m----> 1\u001b[0m fpga_pulser_ok\u001b[39m.\u001b[39;49mfpga\u001b[39m.\u001b[39;49mWriteToBlockPipeIn(\u001b[39m0x80\u001b[39;49m, \u001b[39m32\u001b[39;49m, \u001b[39mbytearray\u001b[39;49m(swap))\n",
      "File \u001b[1;32m~\\Anaconda2\\envs\\scudi\\lib\\site-packages\\rpyc\\core\\netref.py:240\u001b[0m, in \u001b[0;36m_make_method.<locals>.__call__\u001b[1;34m(_self, *args, **kwargs)\u001b[0m\n\u001b[0;32m    238\u001b[0m \u001b[39mdef\u001b[39;00m \u001b[39m__call__\u001b[39m(_self, \u001b[39m*\u001b[39margs, \u001b[39m*\u001b[39m\u001b[39m*\u001b[39mkwargs):\n\u001b[0;32m    239\u001b[0m     kwargs \u001b[39m=\u001b[39m \u001b[39mtuple\u001b[39m(kwargs\u001b[39m.\u001b[39mitems())\n\u001b[1;32m--> 240\u001b[0m     \u001b[39mreturn\u001b[39;00m syncreq(_self, consts\u001b[39m.\u001b[39;49mHANDLE_CALL, args, kwargs)\n",
      "File \u001b[1;32m~\\Anaconda2\\envs\\scudi\\lib\\site-packages\\rpyc\\core\\netref.py:63\u001b[0m, in \u001b[0;36msyncreq\u001b[1;34m(proxy, handler, *args)\u001b[0m\n\u001b[0;32m     51\u001b[0m \u001b[39m\u001b[39m\u001b[39m\"\"\"Performs a synchronous request on the given proxy object.\u001b[39;00m\n\u001b[0;32m     52\u001b[0m \u001b[39mNot intended to be invoked directly.\u001b[39;00m\n\u001b[0;32m     53\u001b[0m \n\u001b[1;32m   (...)\u001b[0m\n\u001b[0;32m     60\u001b[0m \u001b[39m:returns: the result of the operation\u001b[39;00m\n\u001b[0;32m     61\u001b[0m \u001b[39m\"\"\"\u001b[39;00m\n\u001b[0;32m     62\u001b[0m conn \u001b[39m=\u001b[39m \u001b[39mobject\u001b[39m\u001b[39m.\u001b[39m\u001b[39m__getattribute__\u001b[39m(proxy, \u001b[39m\"\u001b[39m\u001b[39m____conn__\u001b[39m\u001b[39m\"\u001b[39m)\n\u001b[1;32m---> 63\u001b[0m \u001b[39mreturn\u001b[39;00m conn\u001b[39m.\u001b[39;49msync_request(handler, proxy, \u001b[39m*\u001b[39;49margs)\n",
      "File \u001b[1;32m~\\Anaconda2\\envs\\scudi\\lib\\site-packages\\rpyc\\core\\protocol.py:718\u001b[0m, in \u001b[0;36mConnection.sync_request\u001b[1;34m(self, handler, *args)\u001b[0m\n\u001b[0;32m    715\u001b[0m _async_res \u001b[39m=\u001b[39m \u001b[39mself\u001b[39m\u001b[39m.\u001b[39masync_request(handler, \u001b[39m*\u001b[39margs, timeout\u001b[39m=\u001b[39mtimeout)\n\u001b[0;32m    716\u001b[0m \u001b[39m# _async_res is an instance of AsyncResult, the value property invokes Connection.serve via AsyncResult.wait\u001b[39;00m\n\u001b[0;32m    717\u001b[0m \u001b[39m# So, the _recvlock can be acquired multiple times by the owning thread and warrants the use of RLock\u001b[39;00m\n\u001b[1;32m--> 718\u001b[0m \u001b[39mreturn\u001b[39;00m _async_res\u001b[39m.\u001b[39;49mvalue\n",
      "File \u001b[1;32m~\\Anaconda2\\envs\\scudi\\lib\\site-packages\\rpyc\\core\\async_.py:108\u001b[0m, in \u001b[0;36mAsyncResult.value\u001b[1;34m(self)\u001b[0m\n\u001b[0;32m    106\u001b[0m \u001b[39mself\u001b[39m\u001b[39m.\u001b[39mwait()\n\u001b[0;32m    107\u001b[0m \u001b[39mif\u001b[39;00m \u001b[39mself\u001b[39m\u001b[39m.\u001b[39m_is_exc:\n\u001b[1;32m--> 108\u001b[0m     \u001b[39mraise\u001b[39;00m \u001b[39mself\u001b[39m\u001b[39m.\u001b[39m_obj\n\u001b[0;32m    109\u001b[0m \u001b[39melse\u001b[39;00m:\n\u001b[0;32m    110\u001b[0m     \u001b[39mreturn\u001b[39;00m \u001b[39mself\u001b[39m\u001b[39m.\u001b[39m_obj\n",
      "\u001b[1;31mTypeError\u001b[0m: in method 'okCFrontPanel_WriteToBlockPipeIn', argument 4 of type '(char *data, int length)'\n\n========= Remote Traceback (1) =========\nTraceback (most recent call last):\n  File \"C:\\Users\\yy3\\Anaconda2\\envs\\scudi\\lib\\site-packages\\rpyc\\core\\protocol.py\", line 356, in _dispatch_request\n    res = self._HANDLERS[handler](self, *args)\n  File \"C:\\Users\\yy3\\Anaconda2\\envs\\scudi\\lib\\site-packages\\rpyc\\core\\protocol.py\", line 837, in _handle_call\n    return obj(*args, **dict(kwargs))\n  File \"C:\\qudi\\scudi\\src\\qudi\\hardware\\fpga_pulser\\ok.py\", line 1310, in WriteToBlockPipeIn\n    return _ok.okCFrontPanel_WriteToBlockPipeIn(self, epAddr, blockSize, data)\nTypeError: in method 'okCFrontPanel_WriteToBlockPipeIn', argument 4 of type '(char *data, int length)'\n"
     ]
    }
   ],
   "source": [
    "fpga_pulser_ok.fpga.WriteToBlockPipeIn(0x80, 1024, bytearray(swap))"
   ]
  },
  {
   "cell_type": "code",
   "execution_count": 23,
   "metadata": {},
   "outputs": [
    {
     "data": {
      "text/plain": [
       "'\\x00\\x00\\x00\\x00\\x01\\x00\\x00'"
      ]
     },
     "execution_count": 23,
     "metadata": {},
     "output_type": "execute_result"
    }
   ],
   "source": [
    "swap.decode(\"ascii\")"
   ]
  },
  {
   "cell_type": "code",
   "execution_count": 24,
   "metadata": {},
   "outputs": [
    {
     "data": {
      "text/plain": [
       "'\\x00\\x00\\x00\\x00\\x01\\x00\\x00'"
      ]
     },
     "execution_count": 24,
     "metadata": {},
     "output_type": "execute_result"
    }
   ],
   "source": [
    "swap.decode(\"utf-8\")"
   ]
  },
  {
   "cell_type": "code",
   "execution_count": null,
   "metadata": {},
   "outputs": [
    {
     "data": {
      "text/plain": [
       "b'\\x00'"
      ]
     },
     "execution_count": 38,
     "metadata": {},
     "output_type": "execute_result"
    }
   ],
   "source": [
    "s[1:2]"
   ]
  },
  {
   "cell_type": "code",
   "execution_count": null,
   "metadata": {},
   "outputs": [
    {
     "data": {
      "text/plain": [
       "b'\\x00'"
      ]
     },
     "execution_count": 50,
     "metadata": {},
     "output_type": "execute_result"
    }
   ],
   "source": [
    "s[0: 1]"
   ]
  },
  {
   "cell_type": "code",
   "execution_count": null,
   "metadata": {},
   "outputs": [
    {
     "data": {
      "text/plain": [
       "255"
      ]
     },
     "execution_count": 22,
     "metadata": {},
     "output_type": "execute_result"
    }
   ],
   "source": [
    "s[5]"
   ]
  },
  {
   "cell_type": "code",
   "execution_count": null,
   "metadata": {},
   "outputs": [],
   "source": [
    "def pack_bits(mult, pattern):\n",
    "    # ToDo: check whether max repetitions is exceeded, split into several commands if necessary\n",
    "    # print mult, pattern\n",
    "    print(mult, pattern)\n",
    "    \n",
    "    pattern = [pattern[i] | pattern[i+1]<<4 for i in range(0,len(pattern),2)]\n",
    "    \n",
    "    s = struct.pack('>I%iB'%len(pattern), 1, *pattern[::-1])\n",
    "    #s = s[4:]+s[2:4]+s[:2]\n",
    "    swap = ''\n",
    "    for i in range(len(s)):\n",
    "        print(s)\n",
    "        swap += s[i-1 if i%2 else i+1]\n",
    "    return swap"
   ]
  },
  {
   "cell_type": "code",
   "execution_count": null,
   "metadata": {},
   "outputs": [
    {
     "name": "stdout",
     "output_type": "stream",
     "text": [
      "2147483648 [255, 0, 0, 0]\n",
      "b'\\x00\\x00\\x00\\x01\\x00\\xff'\n"
     ]
    },
    {
     "ename": "TypeError",
     "evalue": "can only concatenate str (not \"int\") to str",
     "output_type": "error",
     "traceback": [
      "\u001b[1;31m---------------------------------------------------------------------------\u001b[0m",
      "\u001b[1;31mTypeError\u001b[0m                                 Traceback (most recent call last)",
      "Cell \u001b[1;32mIn[15], line 1\u001b[0m\n\u001b[1;32m----> 1\u001b[0m pack_bits(\u001b[39m1\u001b[39;49m\u001b[39m<<\u001b[39;49m\u001b[39m31\u001b[39;49m, pattern)\n",
      "Cell \u001b[1;32mIn[14], line 13\u001b[0m, in \u001b[0;36mpack_bits\u001b[1;34m(mult, pattern)\u001b[0m\n\u001b[0;32m     11\u001b[0m \u001b[39mfor\u001b[39;00m i \u001b[39min\u001b[39;00m \u001b[39mrange\u001b[39m(\u001b[39mlen\u001b[39m(s)):\n\u001b[0;32m     12\u001b[0m     \u001b[39mprint\u001b[39m(s)\n\u001b[1;32m---> 13\u001b[0m     swap \u001b[39m+\u001b[39m\u001b[39m=\u001b[39m s[i\u001b[39m-\u001b[39m\u001b[39m1\u001b[39m \u001b[39mif\u001b[39;00m i\u001b[39m%\u001b[39m\u001b[39m2\u001b[39m \u001b[39melse\u001b[39;00m i\u001b[39m+\u001b[39m\u001b[39m1\u001b[39m]\n\u001b[0;32m     14\u001b[0m \u001b[39mreturn\u001b[39;00m swap\n",
      "\u001b[1;31mTypeError\u001b[0m: can only concatenate str (not \"int\") to str"
     ]
    }
   ],
   "source": [
    "pack_bits(1<<31, pattern)"
   ]
  },
  {
   "cell_type": "code",
   "execution_count": null,
   "metadata": {},
   "outputs": [],
   "source": [
    "pattern = [255, 0, 0, 0]"
   ]
  },
  {
   "cell_type": "code",
   "execution_count": null,
   "metadata": {},
   "outputs": [],
   "source": [
    "mult = 1.2"
   ]
  },
  {
   "cell_type": "code",
   "execution_count": null,
   "metadata": {},
   "outputs": [
    {
     "data": {
      "text/plain": [
       "2147483648"
      ]
     },
     "execution_count": 16,
     "metadata": {},
     "output_type": "execute_result"
    }
   ],
   "source": [
    "1<<31"
   ]
  },
  {
   "cell_type": "code",
   "execution_count": null,
   "metadata": {},
   "outputs": [
    {
     "ename": "error",
     "evalue": "required argument is not an integer",
     "output_type": "error",
     "traceback": [
      "\u001b[1;31m---------------------------------------------------------------------------\u001b[0m",
      "\u001b[1;31merror\u001b[0m                                     Traceback (most recent call last)",
      "Cell \u001b[1;32mIn[15], line 1\u001b[0m\n\u001b[1;32m----> 1\u001b[0m struct\u001b[39m.\u001b[39;49mpack(\u001b[39m'\u001b[39;49m\u001b[39m>I\u001b[39;49m\u001b[39m%i\u001b[39;49;00m\u001b[39mB\u001b[39;49m\u001b[39m'\u001b[39;49m\u001b[39m%\u001b[39;49m\u001b[39mlen\u001b[39;49m(pattern), mult, \u001b[39m*\u001b[39;49mpattern[::\u001b[39m-\u001b[39;49m\u001b[39m1\u001b[39;49m])\n",
      "\u001b[1;31merror\u001b[0m: required argument is not an integer"
     ]
    }
   ],
   "source": [
    "struct.pack('>I%iB'%len(pattern), mult, *pattern[::-1])"
   ]
  },
  {
   "cell_type": "code",
   "execution_count": null,
   "metadata": {},
   "outputs": [],
   "source": [
    "def generate_sequence(tau=[10, 20, 30], laser=10, wait=10):\n",
    "\n",
    "    sequence = []\n",
    "    for t in tau:\n",
    "        sequence.append(([\"d_ch1\", \"d_ch2\"], t))\n",
    "        sequence.append(([], 100))\n",
    "        sequence.append(([\"d_ch1\"], laser))\n",
    "        sequence.append(([], wait))\n",
    "        sequence.append(([\"d_ch1\"], 100))\n",
    "    return sequence"
   ]
  },
  {
   "cell_type": "code",
   "execution_count": 15,
   "metadata": {},
   "outputs": [],
   "source": [
    "channel_map={\n",
    "    \"laser\": 0,  # open aom -> laser on\n",
    "    \"detect\": 1,  # start counting (apd)\n",
    "    \"sequence\": 2,  # start/stop count seq.\n",
    "    \"microwave\": 7,  # open switch -> mw on\n",
    "},"
   ]
  },
  {
   "cell_type": "code",
   "execution_count": 16,
   "metadata": {},
   "outputs": [],
   "source": [
    "fpga_pulser_ok.setContinuous([\"d_ch1\"])"
   ]
  },
  {
   "cell_type": "code",
   "execution_count": 21,
   "metadata": {},
   "outputs": [],
   "source": [
    "fpga_pulser_ok.setContinuous([\"d_ch1\", \"d_ch2\"])"
   ]
  },
  {
   "cell_type": "code",
   "execution_count": null,
   "metadata": {},
   "outputs": [],
   "source": []
  }
 ],
 "metadata": {
  "kernelspec": {
   "display_name": "qudi",
   "language": "python",
   "name": "qudi"
  },
  "language_info": {
   "codemirror_mode": {
    "name": "ipython",
    "version": 3
   },
   "file_extension": ".py",
   "mimetype": "text/x-python",
   "name": "python",
   "nbconvert_exporter": "python",
   "pygments_lexer": "ipython3",
   "version": "3.9.16"
  },
  "orig_nbformat": 4
 },
 "nbformat": 4,
 "nbformat_minor": 2
}

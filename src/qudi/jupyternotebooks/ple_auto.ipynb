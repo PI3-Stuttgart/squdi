{
 "cells": [
  {
   "cell_type": "code",
   "execution_count": 1,
   "metadata": {},
   "outputs": [],
   "source": [
    "import time\n",
    "from tqdm import tqdm\n",
    "from IPython.display import display\n",
    "import matplotlib.pyplot as plt"
   ]
  },
  {
   "cell_type": "code",
   "execution_count": 67,
   "metadata": {},
   "outputs": [],
   "source": [
    "wave_buff = high_finesse_wavemeter_remote.get_wavelength_buffer()\n",
    "factor_sigma = float((np.max(np.array(wave_buff)) - np.min(np.array(wave_buff)) )/ 0.02)"
   ]
  },
  {
   "cell_type": "code",
   "execution_count": 71,
   "metadata": {},
   "outputs": [],
   "source": [
    "number_of_repeats = 5\n",
    "powers = [150, 170, 190, 220, 250, 300] #\n",
    "ple_gui._mw.number_of_repeats_SpinBox.setValue(number_of_repeats)\n",
    "ple_gui._mw.number_of_repeats_SpinBox.editingFinished.emit()\n",
    "fits = []\n",
    "for power in powers:\n",
    "        ple_gui._controller_logic.sigGuiParamsUpdated.emit({\"power\": power})\n",
    "        # do a scan\n",
    "        time.sleep(1)\n",
    "        ple_gui._mw.actionToggle_scan.setChecked(True)\n",
    "        ple_gui.toggle_scan()\n",
    "        while laser_scanner_logic.module_state()=='locked':\n",
    "                time.sleep(1)\n",
    "        ple_gui._fit_dockwidget.fit_widget.sigDoFit.emit(\"Lorentzian\")\n",
    "        fwhm = 2 * factor_sigma * ple_gui.fit_result[1].best_values['sigma'] / 1e6\n",
    "        fits.append(fwhm)"
   ]
  },
  {
   "cell_type": "code",
   "execution_count": 69,
   "metadata": {},
   "outputs": [],
   "source": [
    "ple_gui._fit_dockwidget.fit_widget.sigDoFit.emit(\"Lorentian\")\n",
    "fwhm = 2 * factor_sigma * ple_gui.fit_result[1].best_values['sigma'] / 1e6"
   ]
  },
  {
   "cell_type": "code",
   "execution_count": 64,
   "metadata": {},
   "outputs": [],
   "source": []
  },
  {
   "cell_type": "code",
   "execution_count": 10,
   "metadata": {},
   "outputs": [],
   "source": [
    "def go_to_poi(ref_poi, poi_cur):\n",
    "    pml.go_to_poi(ref_poi)\n",
    "    time.sleep(5)\n",
    "    pml.go_to_poi(poi_cur)\n",
    "    time.sleep(5)\n",
    "    for i in range(2):\n",
    "        scanning_optimize_logic.start_optimize()\n",
    "        while scanning_optimize_logic.module_state()=='locked':\n",
    "            time.sleep(1)"
   ]
  },
  {
   "cell_type": "code",
   "execution_count": 11,
   "metadata": {},
   "outputs": [],
   "source": [
    "def start_ple(self):\n",
    "    #wavemeter._wavelength_buffer = []\n",
    "    #self._laser_controller.etalon_voltage = self.eta\n",
    "    #powercontroller_logic.motor_position = power\n",
    "\n",
    "    #self._ple_started = True\n",
    "    ple_gui._mw.actionToggle_scan.setChecked(True)\n",
    "    ple_gui.toggle_scan()\n",
    "    #self._ple_gui._mw.actionToggle_scan.triggered.emit()\n",
    "    \n",
    "    return"
   ]
  },
  {
   "cell_type": "code",
   "execution_count": 12,
   "metadata": {},
   "outputs": [
    {
     "data": {
      "text/plain": [
       "<qudi.logic.ple.ple_scanner_logic.PLEScannerLogic(0x26ffed55730) at 0x0000026F800CB280>"
      ]
     },
     "execution_count": 12,
     "metadata": {},
     "output_type": "execute_result"
    }
   ],
   "source": [
    "laser_scanner_logic"
   ]
  },
  {
   "cell_type": "code",
   "execution_count": 13,
   "metadata": {},
   "outputs": [],
   "source": [
    "powers = []"
   ]
  },
  {
   "cell_type": "code",
   "execution_count": 14,
   "metadata": {},
   "outputs": [],
   "source": [
    "def run_saturation(average_times = 1):\n",
    "    # set number of scans\n",
    "    ple_gui._mw.number_of_repeats_SpinBox.setValue(average_times)\n",
    "    ple_gui._mw.number_of_repeats_SpinBox.editingFinished.emit()\n",
    "\n",
    "    # do a scan\n",
    "    while laser_scanner_logic.module_state()=='locked':\n",
    "            time.sleep(1)\n",
    "    ple_gui._fit_dockwidget.fit_widget.sigDoFit.emit()\n",
    "    #Do fit\n",
    "    #Save in a seaprate folder\n",
    "    #append the scan\n",
    "    odmr.save_odmr_data(tag=f'ROI1_POI={poi_cur}')"
   ]
  },
  {
   "cell_type": "code",
   "execution_count": 15,
   "metadata": {},
   "outputs": [],
   "source": [
    "def run_auto_ple(poi_names):\n",
    "    ref_poi = 'ref_auto_poi'\n",
    "    for poi_cur in poi_names:\n",
    "        go_to_poi(ref_poi, poi_cur)\n",
    "        odmr.start_odmr_scan()\n",
    "        while odmr.module_state()=='locked':\n",
    "            time.sleep(1)\n",
    "        odmr.save_odmr_data(tag=f'ROI1_POI={poi_cur}')\n",
    "        time.sleep(2)"
   ]
  },
  {
   "cell_type": "code",
   "execution_count": 16,
   "metadata": {},
   "outputs": [
    {
     "ename": "NameError",
     "evalue": "name 'pml' is not defined",
     "output_type": "error",
     "traceback": [
      "\u001b[1;31m---------------------------------------------------------------------------\u001b[0m",
      "\u001b[1;31mNameError\u001b[0m                                 Traceback (most recent call last)",
      "Cell \u001b[1;32mIn[16], line 1\u001b[0m\n\u001b[1;32m----> 1\u001b[0m poi_names \u001b[39m=\u001b[39m pml\u001b[39m.\u001b[39mpoi_names\n\u001b[0;32m      2\u001b[0m poi_names \u001b[39m=\u001b[39m poi_names[:\u001b[39m-\u001b[39m\u001b[39m1\u001b[39m]\n\u001b[0;32m      3\u001b[0m poi_names\n",
      "\u001b[1;31mNameError\u001b[0m: name 'pml' is not defined"
     ]
    }
   ],
   "source": [
    "poi_names = pml.poi_names\n",
    "poi_names = poi_names[:-1]\n",
    "poi_names"
   ]
  },
  {
   "cell_type": "markdown",
   "metadata": {},
   "source": []
  }
 ],
 "metadata": {
  "kernelspec": {
   "display_name": "qudi",
   "language": "python",
   "name": "qudi"
  },
  "language_info": {
   "codemirror_mode": {
    "name": "ipython",
    "version": 3
   },
   "file_extension": ".py",
   "mimetype": "text/x-python",
   "name": "python",
   "nbconvert_exporter": "python",
   "pygments_lexer": "ipython3",
   "version": "3.9.15"
  }
 },
 "nbformat": 4,
 "nbformat_minor": 4
}

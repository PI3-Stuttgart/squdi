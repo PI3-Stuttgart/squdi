{
 "cells": [
  {
   "cell_type": "code",
   "execution_count": 12,
   "metadata": {},
   "outputs": [],
   "source": [
    "import time\n",
    "from tqdm import tqdm\n",
    "from IPython.display import display\n",
    "import matplotlib.pyplot as plt\n",
    "import numpy as np\n",
    "import os"
   ]
  },
  {
   "attachments": {},
   "cell_type": "markdown",
   "metadata": {},
   "source": [
    "Determine the scaling factor for the scanning range"
   ]
  },
  {
   "cell_type": "code",
   "execution_count": 11,
   "metadata": {},
   "outputs": [
    {
     "data": {
      "text/plain": [
       "0"
      ]
     },
     "execution_count": 11,
     "metadata": {},
     "output_type": "execute_result"
    }
   ],
   "source": [
    "high_finesse_wavemeter_remote.start_acquisition()\n",
    "high_finesse_wavemeter_remote._wavelength_buffer = []\n",
    "wave_buff = high_finesse_wavemeter_remote.get_wavelength_buffer()\n",
    "factor_sigma = float((np.max(np.array(wave_buff)) - np.min(np.array(wave_buff)) )/ 0.02)\n",
    "factor_sigma"
   ]
  },
  {
   "cell_type": "code",
   "execution_count": 2,
   "metadata": {},
   "outputs": [],
   "source": [
    "factor_sigma = 1.04"
   ]
  },
  {
   "cell_type": "code",
   "execution_count": 125,
   "metadata": {},
   "outputs": [],
   "source": [
    "def go_to_poi(poi_cur, ref_poi=\"ref\"):\n",
    "    poi_manager_logic.go_to_poi(ref_poi)\n",
    "    time.sleep(2)\n",
    "    poi_manager_logic.go_to_poi(poi_cur)\n",
    "    time.sleep(2)\n",
    "    poi_manager_logic.go_to_poi(poi_cur)\n",
    "    time.sleep(2)\n",
    "    for i in range(2):\n",
    "        scanning_optimize_logic.start_optimize()\n",
    "        while scanning_optimize_logic.module_state()=='locked':\n",
    "            time.sleep(1)\n",
    "    time.sleep(1)\n",
    "\n",
    "def optimize_ple():\n",
    "    for i in range(2):\n",
    "        ple_gui.sigToggleOptimize.emit(True)\n",
    "        while ple_optimize_logic.module_state()=='locked':\n",
    "            time.sleep(1)\n",
    "\n",
    "def optimize_all():\n",
    "    #assume the resonant is on\n",
    "    optimize_ple()\n",
    "    time.sleep(1)\n",
    "    for i in range(2):\n",
    "        scanning_optimize_logic.start_optimize()\n",
    "        while scanning_optimize_logic.module_state()=='locked':\n",
    "            time.sleep(1)\n",
    "    time.sleep(1)\n",
    "def set_resonant_power(power):\n",
    "    ple_gui._mw.Controller_widget.power_SpinBox.setValue(power)\n",
    "    time.sleep(0.1)\n",
    "    ple_gui._mw.Controller_widget.power_SpinBox.editingFinished.emit()\n",
    "    time.sleep(2)\n",
    "\n",
    "def do_ple_scan(lines = 1, in_range = None, frequency=None, resolution=None):\n",
    "    \"\"\"\n",
    "    fine_scan_range = (\n",
    "            ple_gui.fit_result[1].best_values['center'] - ple_gui.fit_result[1].best_values['sigma'] * 3,\n",
    "            ple_gui.fit_result[1].best_values['center'] + ple_gui.fit_result[1].best_values['sigma']  * 3\n",
    "        )\n",
    "    \"\"\"\n",
    "    if in_range is None:\n",
    "        ple_gui._mw.actionFull_range.triggered.emit()\n",
    "    else:\n",
    "        ple_gui.sigScanSettingsChanged.emit(\n",
    "             {\n",
    "             'range': {ple_gui.scan_axis: in_range}\n",
    "              }\n",
    "        )\n",
    "    ple_gui._mw.number_of_repeats_SpinBox.setValue(lines)\n",
    "    ple_gui._mw.number_of_repeats_SpinBox.editingFinished.emit()\n",
    "    time.sleep(0.5)\n",
    "    ple_gui._mw.actionToggle_scan.setChecked(True)\n",
    "    ple_gui.toggle_scan()\n",
    "    while laser_scanner_logic.module_state()=='locked':\n",
    "            time.sleep(1)\n",
    "    time.sleep(1)\n",
    "    ple_gui._fit_dockwidget.fit_widget.sigDoFit.emit(\"Lorentzian\")\n",
    "    time.sleep(1)\n",
    "    # ple_gui._accumulated_data.mean(axis=0)\n",
    "    # ple_gui.fit_result[1].params[\"center\"].value\n",
    "    return ple_gui.fit_result[1].params\n",
    "\n",
    "def take_spectrum():\n",
    "    spectrometer.acquire_spectrum()\n",
    "    while spectrometerlogic._acquisition_running:\n",
    "            time.sleep(1)\n",
    "    time.sleep(1)\n",
    "\n",
    "def save_spectrum(name_tag, folder_path=None):\n",
    "    if folder_name:\n",
    "        spectrometer._save_folderpath = folder_path\n",
    "    spectrometer.save_widget.saveTagLineEdit.setText(name_tag)\n",
    "    # hit save\n",
    "    spectrometer.sigSaveSpectrum.emit()\n",
    "\n",
    "\n",
    "def go_to_ple_target(target):\n",
    "    #target = ple_gui.fit_result[1].params[\"center\"].value\n",
    "    ple_gui._mw.ple_widget.target_point.setValue(0)\n",
    "    time.sleep(2)\n",
    "    ple_gui._mw.ple_widget.target_point.setValue(target)\n",
    "    ple_gui._mw.ple_widget.target_point.sigPositionChangeFinished.emit(target)\n",
    "    time.sleep(2)\n",
    "\n",
    "def one_pulse_repump(color='blue'):\n",
    "    if color == \"blue\":\n",
    "        cobolt.set_laser_modulated_power(power = 20)\n",
    "        cobolt.enable_modulated()\n",
    "        time.sleep(0.2)\n",
    "        cobolt.disable_modulated()\n",
    "    else:\n",
    "        ibeam_smart.enable()\n",
    "        time.sleep(0.2)\n",
    "        ibeam_smart.disable()\n",
    "def save_ple(tag, poi_name=None, folder_name = None):\n",
    "    if folder_name:\n",
    "        ple_gui._save_folderpath = folder_name\n",
    "    ple_gui.save_path_widget.saveTagLineEdit.setText(\n",
    "        f\"{poi_name}_{tag}\"\n",
    "        )\n",
    "    ple_gui._mw.actionSave.triggered.emit()"
   ]
  },
  {
   "cell_type": "code",
   "execution_count": 5,
   "metadata": {},
   "outputs": [],
   "source": [
    "set_resonant_power(power = 290)"
   ]
  },
  {
   "cell_type": "code",
   "execution_count": 7,
   "metadata": {},
   "outputs": [],
   "source": [
    "#set max resonant power\n",
    "set_resonant_power(power = 300)\n",
    "# turn on the CW repump\n",
    "cobolt.enable_modulated()\n",
    "cobolt.set_laser_modulated_power(power = 10)\n",
    "#perform one ple scan to determine if there is a PLE\n",
    "res = do_ple_scan(lines = 1, in_range = None)\n",
    "\n",
    "\n",
    "\n",
    "go_to_ple_target(res[\"center\"].value)\n",
    "\n",
    "\n",
    "\n",
    "\n",
    "\n",
    "res = do_ple_scan(lines = 1)\n",
    "\n",
    "fine_scan_range = ( \n",
    "    res[\"center\"].value - 5 * res[\"sigma\"].value ,\n",
    "    res[\"center\"].value + 5 * res[\"sigma\"].value\n",
    "                   )\n",
    "set_resonant_power(power = 270)\n",
    "\n",
    "res = do_ple_scan(lines = 1, in_range=fine_scan_range)\n",
    "\n",
    "fine_scan_range = ( \n",
    "    res[\"center\"].value - 5 * res[\"sigma\"].value ,\n",
    "    res[\"center\"].value + 5 * res[\"sigma\"].value\n",
    "                   )\n",
    "\n",
    "res = do_ple_scan(lines = 5, in_range=fine_scan_range)"
   ]
  },
  {
   "cell_type": "code",
   "execution_count": 15,
   "metadata": {},
   "outputs": [
    {
     "name": "stdout",
     "output_type": "stream",
     "text": [
      "Have ple\n"
     ]
    }
   ],
   "source": [
    "if res[\"center\"].stderr < 1e3 and res[\"sigma\"].stderr <= res[\"sigma\"].value: \n",
    "    print(\"Have ple\")\n",
    "else:\n",
    "        #next poi\n",
    "    print(\"No ple\")"
   ]
  },
  {
   "cell_type": "code",
   "execution_count": 17,
   "metadata": {},
   "outputs": [],
   "source": [
    "one_pulse_repump(color=\"blue\")"
   ]
  },
  {
   "cell_type": "code",
   "execution_count": null,
   "metadata": {},
   "outputs": [],
   "source": [
    "cobolt.disable_modulated()"
   ]
  },
  {
   "cell_type": "code",
   "execution_count": 16,
   "metadata": {},
   "outputs": [],
   "source": [
    "cobolt.disable_modulated()"
   ]
  },
  {
   "attachments": {},
   "cell_type": "markdown",
   "metadata": {},
   "source": [
    "## Do the experiment on one defect"
   ]
  },
  {
   "cell_type": "code",
   "execution_count": 58,
   "metadata": {},
   "outputs": [],
   "source": [
    "import pandas as pd\n",
    "import json"
   ]
  },
  {
   "cell_type": "code",
   "execution_count": 29,
   "metadata": {},
   "outputs": [],
   "source": [
    "results_data = pd.DataFrame(columns=[\"poi_name\",  \"wavelength\", \"min_fwhm\", \"full_scan\", \"saturations\", \"xyz\"])"
   ]
  },
  {
   "cell_type": "code",
   "execution_count": 30,
   "metadata": {},
   "outputs": [],
   "source": [
    "results_poi = pd.DataFrame(columns=[\"poi_name\",  \"wavelength\", \"min_fwhm\", \"saturations\", \"xyz\"])"
   ]
  },
  {
   "cell_type": "code",
   "execution_count": 51,
   "metadata": {},
   "outputs": [
    {
     "data": {
      "text/plain": [
       "484.13082141008164"
      ]
     },
     "execution_count": 51,
     "metadata": {},
     "output_type": "execute_result"
    }
   ],
   "source": [
    "high_finesse_wavemeter_remote.get_current_wavelength()"
   ]
  },
  {
   "cell_type": "code",
   "execution_count": 70,
   "metadata": {},
   "outputs": [],
   "source": [
    "powers = [300, 270, 240, 220 , 200, 170, 150, 140, 130, 120, 110, 100, 80]\n",
    "folder = r\"C:\\Users\\yy3\\Documents\\data\\SnV\\cooldown_06_03_2023_95NA\\197\\2R\\poiA\"\n",
    "os.mkdir(folder:=os.path.join(folder, r\"automated_measurements\"))\n",
    "\n",
    "for poi_name in poi_manager_logic.poi_names:\n",
    "    if poi_name == \"ref\":\n",
    "        continue\n",
    "    results_poi = {}\n",
    "    os.mkdir(folder_defect := os.path.join(folder, poi_name))\n",
    "    \n",
    "    # go to a defect\n",
    "    results_poi[\"poi_name\"] = poi_name\n",
    "    results_poi[\"xyz\"] = tuple(float(coord) for coord in poi_manager_logic.poi_anchors[poi_name])\n",
    "    ibeam_smart.enable()\n",
    "    go_to_poi(poi_name)\n",
    "\n",
    "    #set max resonant power\n",
    "    set_resonant_power(power = 300)\n",
    "    # turn on the CW repump\n",
    "    ibeam_smart.disable()\n",
    "    cobolt.enable_modulated()\n",
    "    cobolt.set_laser_modulated_power(power = 10)\n",
    "    #perform one ple scan to determine if there is a PLE\n",
    "    res = do_ple_scan(lines = 1, in_range = None)\n",
    "    if res[\"center\"].stderr > 1e3 or res[\"sigma\"].stderr > res[\"sigma\"].value: \n",
    "        continue\n",
    "    #since there is a PLE -- optimize_all\n",
    "    go_to_ple_target(res[\"center\"].value)\n",
    "    #get the center wavelength:\n",
    "    wavelength = high_finesse_wavemeter_remote.get_current_wavelength()\n",
    "    results_poi[\"wavelength, THz\"] = float(wavelength)\n",
    "    time.sleep(0.5)\n",
    "\n",
    "    optimize_all()\n",
    "\n",
    "    #do a san again to determine a finer range to scan\n",
    "    res = do_ple_scan(lines = 5)\n",
    "    #it makes sense to save here\n",
    "    save_ple(tag = \"full_range\",\n",
    "             poi_name=poi_name, folder_name=folder_defect)\n",
    "\n",
    "    fine_scan_range = ( \n",
    "        res[\"center\"].value - 5 * res[\"sigma\"].value ,\n",
    "        res[\"center\"].value + 5 * res[\"sigma\"].value\n",
    "                    )\n",
    "    set_resonant_power(power = 270)\n",
    "\n",
    "    res = do_ple_scan(lines = 5, in_range=fine_scan_range)\n",
    "\n",
    "    save_ple(tag = \"5sigma_range\",\n",
    "             poi_name=poi_name, folder_name=folder_defect)\n",
    "\n",
    "    fine_scan_range = ( \n",
    "        res[\"center\"].value - 4 * res[\"sigma\"].value ,\n",
    "        res[\"center\"].value + 4 * res[\"sigma\"].value\n",
    "                    )\n",
    "    \n",
    "    res = do_ple_scan(lines = 1, in_range=fine_scan_range)\n",
    "    # here we have a somewhat fine range for the scan. \n",
    "    #Let's perform a saturation scan with a blue cw repump ON\n",
    "    os.mkdir(saturation_folder := os.path.join(folder_defect, \"saturation\"))\n",
    "\n",
    "    idx_no_ple = None\n",
    "    fwhms = []\n",
    "    fwhms_errors = []\n",
    "    for idx, power in enumerate(powers):\n",
    "        go_to_ple_target(res[\"center\"].value)\n",
    "        set_resonant_power(power = power)\n",
    "        optimize_ple()\n",
    "        res = do_ple_scan(lines = 10, in_range=fine_scan_range)\n",
    "        #save_results\n",
    "        if res[\"sigma\"].value is not None:\n",
    "            fwhms.append(2 * res[\"sigma\"].value)\n",
    "        if res[\"sigma\"].stderr is not None:\n",
    "            fwhms_errors.append(2 * res[\"sigma\"].stderr)\n",
    "        save_ple(tag = f\"{power}\",\n",
    "            poi_name=poi_name, folder_name=saturation_folder)\n",
    "        #save_plots\n",
    "        \n",
    "        if res[\"center\"].stderr > 1e3 or res[\"sigma\"].stderr * 3 > res[\"sigma\"].value: \n",
    "            #ple is gone.\n",
    "            idx_no_ple = idx\n",
    "            break\n",
    "        results_poi.update({\"saturation\": \n",
    "                            {f\"{power}\":\n",
    "                             {\"data\": }\n",
    "                             [123,214,2354]}})\n",
    "    results_poi[\"saturation_fwhm\"] = float(fwhms)\n",
    "    results_poi[\"saturation_fwhm_srderr\"] = float(fwhms_errors)\n",
    "\n",
    "    if idx_no_ple is None:\n",
    "        continue\n",
    "    # photostability study\n",
    "\n",
    "    set_resonant_power(power = powers[idx_no_ple - 2]) #take the last visible ple power\n",
    "    #reionize with blue\n",
    "    os.mkdir(photostability := os.path.join(folder_defect, \"photostability_405\"))\n",
    "\n",
    "  \n",
    "    for i in range(3):\n",
    "        #walk off resonance:\n",
    "        go_to_ple_target(0)\n",
    "        time.sleep(0.5)\n",
    "        cobolt.enable_modulated()\n",
    "        cobolt.set_laser_modulated_power(power = 20)\n",
    "        time.sleep(2)\n",
    "        cobolt.disable_modulated()\n",
    "        ibeam_smart.disable()\n",
    "        res = do_ple_scan(lines = 50, in_range=fine_scan_range)\n",
    "        #cobolt.set_laser_modulated_power(power = 10)\n",
    "        save_ple(tag = \"photostability\", folder_name=photostability) \n",
    "\n",
    "    #reionize with green\n",
    "    os.mkdir(photostability := os.path.join(folder_defect, \"photostability_520\"))\n",
    "    for i in range(3):\n",
    "        #walk off resonance:\n",
    "        go_to_ple_target(0)\n",
    "        time.sleep(0.5)\n",
    "        ibeam_smart.enable()\n",
    "        time.sleep(2)\n",
    "        cobolt.disable_modulated()\n",
    "        ibeam_smart.disable()\n",
    "        \n",
    "        res = do_ple_scan(lines = 20, in_range=fine_scan_range)\n",
    "        #cobolt.set_laser_modulated_power(power = 10)\n",
    "        save_ple(tag = \"photostability\", folder_name=photostability) \n",
    "    \n",
    "    with open(os.path.join(folder_defect, f'results_{poi_name}.txt'), 'w') as file:\n",
    "        file.write(json.dumps(results_poi)) # use `json.loads` to do the reverse\n",
    "    #with open(os.path.join(folder_defect, f'results_{poi_name}.txt')) as file:\n",
    "    #results = json.load(file) # use `json.loads` to do the reverse"
   ]
  },
  {
   "cell_type": "code",
   "execution_count": 94,
   "metadata": {},
   "outputs": [],
   "source": [
    "#results_poi[\"xyz\"] = tuple(float(xx) for xx in results_poi[\"xyz\"] )"
   ]
  },
  {
   "cell_type": "code",
   "execution_count": 119,
   "metadata": {},
   "outputs": [
    {
     "data": {
      "text/plain": [
       "True"
      ]
     },
     "execution_count": 119,
     "metadata": {},
     "output_type": "execute_result"
    }
   ],
   "source": []
  },
  {
   "cell_type": "code",
   "execution_count": 124,
   "metadata": {},
   "outputs": [
    {
     "data": {
      "text/plain": [
       "False"
      ]
     },
     "execution_count": 124,
     "metadata": {},
     "output_type": "execute_result"
    }
   ],
   "source": []
  },
  {
   "cell_type": "code",
   "execution_count": 96,
   "metadata": {},
   "outputs": [
    {
     "data": {
      "text/plain": [
       "(1.1754241822507253e-05, 1.8739329866488726e-05, 6.222e-07)"
      ]
     },
     "execution_count": 96,
     "metadata": {},
     "output_type": "execute_result"
    }
   ],
   "source": [
    "results_poi[\"xyz\"]"
   ]
  },
  {
   "cell_type": "code",
   "execution_count": 108,
   "metadata": {},
   "outputs": [
    {
     "data": {
      "text/plain": [
       "{'poi_name': 'def51', 'xyz': (1.1754241822507253e-05, 1.8739329866488726e-05, 6.222e-07)}"
      ]
     },
     "execution_count": 108,
     "metadata": {},
     "output_type": "execute_result"
    }
   ],
   "source": [
    "results_poi"
   ]
  },
  {
   "cell_type": "code",
   "execution_count": 112,
   "metadata": {},
   "outputs": [],
   "source": [
    "results_poi.update({\"saturation\": {\"100a.u.\":[123,214,2354]}})"
   ]
  },
  {
   "cell_type": "code",
   "execution_count": 114,
   "metadata": {},
   "outputs": [
    {
     "data": {
      "text/plain": [
       "[123, 214, 2354]"
      ]
     },
     "execution_count": 114,
     "metadata": {},
     "output_type": "execute_result"
    }
   ],
   "source": [
    "results_poi[\"saturation\"][\"100a.u.\"]"
   ]
  },
  {
   "cell_type": "code",
   "execution_count": 105,
   "metadata": {},
   "outputs": [],
   "source": [
    "with open(os.path.join(folder_defect, f'results_{poi_name}.txt'), 'w') as file:\n",
    "    file.write(json.dumps(results_poi)) # use `json.loads` to do the reverse"
   ]
  },
  {
   "cell_type": "code",
   "execution_count": 106,
   "metadata": {},
   "outputs": [],
   "source": [
    "with open(os.path.join(folder_defect, f'results_{poi_name}.txt')) as file:\n",
    "    results = json.load(file) # use `json.loads` to do the reverse"
   ]
  },
  {
   "cell_type": "code",
   "execution_count": 79,
   "metadata": {},
   "outputs": [],
   "source": [
    "ibeam_smart.disable()"
   ]
  },
  {
   "cell_type": "code",
   "execution_count": 72,
   "metadata": {},
   "outputs": [],
   "source": [
    "cobolt.disable_modulated()"
   ]
  },
  {
   "cell_type": "code",
   "execution_count": 73,
   "metadata": {},
   "outputs": [],
   "source": [
    "cobolt.enable_modulated()"
   ]
  },
  {
   "cell_type": "code",
   "execution_count": 87,
   "metadata": {},
   "outputs": [],
   "source": [
    "ibeam_smart.enable()"
   ]
  },
  {
   "cell_type": "code",
   "execution_count": null,
   "metadata": {},
   "outputs": [],
   "source": []
  }
 ],
 "metadata": {
  "kernelspec": {
   "display_name": "qudi",
   "language": "python",
   "name": "qudi"
  },
  "language_info": {
   "codemirror_mode": {
    "name": "ipython",
    "version": 3
   },
   "file_extension": ".py",
   "mimetype": "text/x-python",
   "name": "python",
   "nbconvert_exporter": "python",
   "pygments_lexer": "ipython3",
   "version": "3.9.15"
  }
 },
 "nbformat": 4,
 "nbformat_minor": 4
}
